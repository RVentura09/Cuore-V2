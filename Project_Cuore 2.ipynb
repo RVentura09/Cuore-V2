{
 "cells": [
  {
   "cell_type": "code",
   "execution_count": 1,
   "metadata": {
    "id": "E-zEK0LQCE_Y"
   },
   "outputs": [],
   "source": [
    "import numpy as np \n",
    "import pandas as pd\n",
    "import matplotlib.pyplot as plt # Library to help us with plots\n",
    "from sklearn.preprocessing import MinMaxScaler # Library to help us scale\n",
    "from sklearn.model_selection import train_test_split # Library to help us split the dataset\n",
    "from sklearn.ensemble import RandomForestClassifier # Library to enable Random Forest\n",
    "from sklearn.svm import SVC # Library to enable support vector machine\n",
    "from sklearn.neighbors import KNeighborsClassifier # Library to enable KNN\n",
    "from sklearn.tree import DecisionTreeClassifier # Library to enable decision tree\n",
    "from sklearn.metrics import accuracy_score, precision_score, recall_score, f1_score, classification_report, roc_auc_score ,roc_curve\n",
    "from sklearn.model_selection import cross_validate, cross_val_score, KFold, StratifiedKFold, GridSearchCV\n",
    "import pickle # Library to help us save the model\n",
    "\n",
    "RANDOM_SEED = 1331\n",
    "np.random.seed(RANDOM_SEED)"
   ]
  },
  {
   "cell_type": "markdown",
   "metadata": {
    "id": "S4oNisdzfjcg"
   },
   "source": [
    "Based from the original Cuore project  by:\n",
    "Frank Aiwuyor Ogiemwonyi, Rony Ventura, Tara de Groot,\n",
    "Eric Vincent Rivas, Silvia Dubon, Dwi Aji Kurnia Putra, and Laureanne van Dijk "
   ]
  },
  {
   "cell_type": "markdown",
   "metadata": {
    "id": "gV9LUODKSVBE"
   },
   "source": [
    "## 1. Import DataFrame"
   ]
  },
  {
   "cell_type": "code",
   "execution_count": 2,
   "metadata": {
    "colab": {
     "base_uri": "https://localhost:8080/",
     "height": 261
    },
    "id": "PqzMb5R7SMyY",
    "outputId": "28987291-becd-412e-c6c6-fb9257c4bdcb"
   },
   "outputs": [
    {
     "data": {
      "text/html": [
       "<div>\n",
       "<style scoped>\n",
       "    .dataframe tbody tr th:only-of-type {\n",
       "        vertical-align: middle;\n",
       "    }\n",
       "\n",
       "    .dataframe tbody tr th {\n",
       "        vertical-align: top;\n",
       "    }\n",
       "\n",
       "    .dataframe thead th {\n",
       "        text-align: right;\n",
       "    }\n",
       "</style>\n",
       "<table border=\"1\" class=\"dataframe\">\n",
       "  <thead>\n",
       "    <tr style=\"text-align: right;\">\n",
       "      <th></th>\n",
       "      <th>0</th>\n",
       "      <th>1</th>\n",
       "      <th>2</th>\n",
       "      <th>3</th>\n",
       "      <th>4</th>\n",
       "      <th>5</th>\n",
       "      <th>6</th>\n",
       "      <th>7</th>\n",
       "      <th>8</th>\n",
       "      <th>9</th>\n",
       "      <th>10</th>\n",
       "      <th>11</th>\n",
       "      <th>12</th>\n",
       "      <th>13</th>\n",
       "    </tr>\n",
       "  </thead>\n",
       "  <tbody>\n",
       "    <tr>\n",
       "      <th>0</th>\n",
       "      <td>63.0</td>\n",
       "      <td>1.0</td>\n",
       "      <td>1.0</td>\n",
       "      <td>145.0</td>\n",
       "      <td>233.0</td>\n",
       "      <td>1.0</td>\n",
       "      <td>2.0</td>\n",
       "      <td>150.0</td>\n",
       "      <td>0.0</td>\n",
       "      <td>2.3</td>\n",
       "      <td>3.0</td>\n",
       "      <td>0.0</td>\n",
       "      <td>6.0</td>\n",
       "      <td>0</td>\n",
       "    </tr>\n",
       "    <tr>\n",
       "      <th>1</th>\n",
       "      <td>67.0</td>\n",
       "      <td>1.0</td>\n",
       "      <td>4.0</td>\n",
       "      <td>160.0</td>\n",
       "      <td>286.0</td>\n",
       "      <td>0.0</td>\n",
       "      <td>2.0</td>\n",
       "      <td>108.0</td>\n",
       "      <td>1.0</td>\n",
       "      <td>1.5</td>\n",
       "      <td>2.0</td>\n",
       "      <td>3.0</td>\n",
       "      <td>3.0</td>\n",
       "      <td>2</td>\n",
       "    </tr>\n",
       "    <tr>\n",
       "      <th>2</th>\n",
       "      <td>67.0</td>\n",
       "      <td>1.0</td>\n",
       "      <td>4.0</td>\n",
       "      <td>120.0</td>\n",
       "      <td>229.0</td>\n",
       "      <td>0.0</td>\n",
       "      <td>2.0</td>\n",
       "      <td>129.0</td>\n",
       "      <td>1.0</td>\n",
       "      <td>2.6</td>\n",
       "      <td>2.0</td>\n",
       "      <td>2.0</td>\n",
       "      <td>7.0</td>\n",
       "      <td>1</td>\n",
       "    </tr>\n",
       "    <tr>\n",
       "      <th>3</th>\n",
       "      <td>37.0</td>\n",
       "      <td>1.0</td>\n",
       "      <td>3.0</td>\n",
       "      <td>130.0</td>\n",
       "      <td>250.0</td>\n",
       "      <td>0.0</td>\n",
       "      <td>0.0</td>\n",
       "      <td>187.0</td>\n",
       "      <td>0.0</td>\n",
       "      <td>3.5</td>\n",
       "      <td>3.0</td>\n",
       "      <td>0.0</td>\n",
       "      <td>3.0</td>\n",
       "      <td>0</td>\n",
       "    </tr>\n",
       "    <tr>\n",
       "      <th>4</th>\n",
       "      <td>41.0</td>\n",
       "      <td>0.0</td>\n",
       "      <td>2.0</td>\n",
       "      <td>130.0</td>\n",
       "      <td>204.0</td>\n",
       "      <td>0.0</td>\n",
       "      <td>2.0</td>\n",
       "      <td>172.0</td>\n",
       "      <td>0.0</td>\n",
       "      <td>1.4</td>\n",
       "      <td>1.0</td>\n",
       "      <td>0.0</td>\n",
       "      <td>3.0</td>\n",
       "      <td>0</td>\n",
       "    </tr>\n",
       "  </tbody>\n",
       "</table>\n",
       "</div>"
      ],
      "text/plain": [
       "     0    1    2      3      4    5    6      7    8    9    10   11   12  13\n",
       "0  63.0  1.0  1.0  145.0  233.0  1.0  2.0  150.0  0.0  2.3  3.0  0.0  6.0   0\n",
       "1  67.0  1.0  4.0  160.0  286.0  0.0  2.0  108.0  1.0  1.5  2.0  3.0  3.0   2\n",
       "2  67.0  1.0  4.0  120.0  229.0  0.0  2.0  129.0  1.0  2.6  2.0  2.0  7.0   1\n",
       "3  37.0  1.0  3.0  130.0  250.0  0.0  0.0  187.0  0.0  3.5  3.0  0.0  3.0   0\n",
       "4  41.0  0.0  2.0  130.0  204.0  0.0  2.0  172.0  0.0  1.4  1.0  0.0  3.0   0"
      ]
     },
     "execution_count": 2,
     "metadata": {},
     "output_type": "execute_result"
    }
   ],
   "source": [
    "df = pd.read_csv(\"processed.cleveland.csv\",header=None) # Opening and reading the file of Cleveland\n",
    "df.head() # View of first 5 rows "
   ]
  },
  {
   "cell_type": "code",
   "execution_count": 3,
   "metadata": {},
   "outputs": [],
   "source": [
    "#Adding column names\n",
    "#Column names referenced from original dataset\n",
    "#https://archive.ics.uci.edu/dataset/45/heart+disease\n",
    "df=df.set_axis(['Age', 'Sex', 'ChestPain', 'Trestbps', 'Chol', 'Fbs', 'Restecg', 'Thalach', 'Exang', 'Oldpeak', 'Slope', 'Ca', 'Thal', 'Class'], axis='columns')"
   ]
  },
  {
   "cell_type": "code",
   "execution_count": 4,
   "metadata": {},
   "outputs": [
    {
     "name": "stdout",
     "output_type": "stream",
     "text": [
      "<class 'pandas.core.frame.DataFrame'>\n",
      "RangeIndex: 303 entries, 0 to 302\n",
      "Data columns (total 14 columns):\n",
      " #   Column     Non-Null Count  Dtype  \n",
      "---  ------     --------------  -----  \n",
      " 0   Age        303 non-null    float64\n",
      " 1   Sex        303 non-null    float64\n",
      " 2   ChestPain  303 non-null    float64\n",
      " 3   Trestbps   303 non-null    float64\n",
      " 4   Chol       303 non-null    float64\n",
      " 5   Fbs        303 non-null    float64\n",
      " 6   Restecg    303 non-null    float64\n",
      " 7   Thalach    303 non-null    float64\n",
      " 8   Exang      303 non-null    float64\n",
      " 9   Oldpeak    303 non-null    float64\n",
      " 10  Slope      303 non-null    float64\n",
      " 11  Ca         303 non-null    object \n",
      " 12  Thal       303 non-null    object \n",
      " 13  Class      303 non-null    int64  \n",
      "dtypes: float64(11), int64(1), object(2)\n",
      "memory usage: 33.3+ KB\n",
      "\n",
      "\n",
      " Data set shape is :\n"
     ]
    },
    {
     "data": {
      "text/plain": [
       "(303, 14)"
      ]
     },
     "execution_count": 4,
     "metadata": {},
     "output_type": "execute_result"
    }
   ],
   "source": [
    "#Check for null values and data types of each column\n",
    "df.info()\n",
    "\n",
    "print(\"\\n\\n\" + \" Data set shape is :\")\n",
    "df.shape"
   ]
  },
  {
   "cell_type": "code",
   "execution_count": 5,
   "metadata": {},
   "outputs": [
    {
     "data": {
      "text/html": [
       "<div>\n",
       "<style scoped>\n",
       "    .dataframe tbody tr th:only-of-type {\n",
       "        vertical-align: middle;\n",
       "    }\n",
       "\n",
       "    .dataframe tbody tr th {\n",
       "        vertical-align: top;\n",
       "    }\n",
       "\n",
       "    .dataframe thead th {\n",
       "        text-align: right;\n",
       "    }\n",
       "</style>\n",
       "<table border=\"1\" class=\"dataframe\">\n",
       "  <thead>\n",
       "    <tr style=\"text-align: right;\">\n",
       "      <th></th>\n",
       "      <th>Age</th>\n",
       "      <th>Sex</th>\n",
       "      <th>ChestPain</th>\n",
       "      <th>Trestbps</th>\n",
       "      <th>Chol</th>\n",
       "      <th>Fbs</th>\n",
       "      <th>Restecg</th>\n",
       "      <th>Thalach</th>\n",
       "      <th>Exang</th>\n",
       "      <th>Oldpeak</th>\n",
       "      <th>Slope</th>\n",
       "      <th>Class</th>\n",
       "    </tr>\n",
       "  </thead>\n",
       "  <tbody>\n",
       "    <tr>\n",
       "      <th>count</th>\n",
       "      <td>303.000000</td>\n",
       "      <td>303.000000</td>\n",
       "      <td>303.000000</td>\n",
       "      <td>303.000000</td>\n",
       "      <td>303.000000</td>\n",
       "      <td>303.000000</td>\n",
       "      <td>303.000000</td>\n",
       "      <td>303.000000</td>\n",
       "      <td>303.000000</td>\n",
       "      <td>303.000000</td>\n",
       "      <td>303.000000</td>\n",
       "      <td>303.000000</td>\n",
       "    </tr>\n",
       "    <tr>\n",
       "      <th>mean</th>\n",
       "      <td>54.438944</td>\n",
       "      <td>0.679868</td>\n",
       "      <td>3.158416</td>\n",
       "      <td>131.689769</td>\n",
       "      <td>246.693069</td>\n",
       "      <td>0.148515</td>\n",
       "      <td>0.990099</td>\n",
       "      <td>149.607261</td>\n",
       "      <td>0.326733</td>\n",
       "      <td>1.039604</td>\n",
       "      <td>1.600660</td>\n",
       "      <td>0.937294</td>\n",
       "    </tr>\n",
       "    <tr>\n",
       "      <th>std</th>\n",
       "      <td>9.038662</td>\n",
       "      <td>0.467299</td>\n",
       "      <td>0.960126</td>\n",
       "      <td>17.599748</td>\n",
       "      <td>51.776918</td>\n",
       "      <td>0.356198</td>\n",
       "      <td>0.994971</td>\n",
       "      <td>22.875003</td>\n",
       "      <td>0.469794</td>\n",
       "      <td>1.161075</td>\n",
       "      <td>0.616226</td>\n",
       "      <td>1.228536</td>\n",
       "    </tr>\n",
       "    <tr>\n",
       "      <th>min</th>\n",
       "      <td>29.000000</td>\n",
       "      <td>0.000000</td>\n",
       "      <td>1.000000</td>\n",
       "      <td>94.000000</td>\n",
       "      <td>126.000000</td>\n",
       "      <td>0.000000</td>\n",
       "      <td>0.000000</td>\n",
       "      <td>71.000000</td>\n",
       "      <td>0.000000</td>\n",
       "      <td>0.000000</td>\n",
       "      <td>1.000000</td>\n",
       "      <td>0.000000</td>\n",
       "    </tr>\n",
       "    <tr>\n",
       "      <th>25%</th>\n",
       "      <td>48.000000</td>\n",
       "      <td>0.000000</td>\n",
       "      <td>3.000000</td>\n",
       "      <td>120.000000</td>\n",
       "      <td>211.000000</td>\n",
       "      <td>0.000000</td>\n",
       "      <td>0.000000</td>\n",
       "      <td>133.500000</td>\n",
       "      <td>0.000000</td>\n",
       "      <td>0.000000</td>\n",
       "      <td>1.000000</td>\n",
       "      <td>0.000000</td>\n",
       "    </tr>\n",
       "    <tr>\n",
       "      <th>50%</th>\n",
       "      <td>56.000000</td>\n",
       "      <td>1.000000</td>\n",
       "      <td>3.000000</td>\n",
       "      <td>130.000000</td>\n",
       "      <td>241.000000</td>\n",
       "      <td>0.000000</td>\n",
       "      <td>1.000000</td>\n",
       "      <td>153.000000</td>\n",
       "      <td>0.000000</td>\n",
       "      <td>0.800000</td>\n",
       "      <td>2.000000</td>\n",
       "      <td>0.000000</td>\n",
       "    </tr>\n",
       "    <tr>\n",
       "      <th>75%</th>\n",
       "      <td>61.000000</td>\n",
       "      <td>1.000000</td>\n",
       "      <td>4.000000</td>\n",
       "      <td>140.000000</td>\n",
       "      <td>275.000000</td>\n",
       "      <td>0.000000</td>\n",
       "      <td>2.000000</td>\n",
       "      <td>166.000000</td>\n",
       "      <td>1.000000</td>\n",
       "      <td>1.600000</td>\n",
       "      <td>2.000000</td>\n",
       "      <td>2.000000</td>\n",
       "    </tr>\n",
       "    <tr>\n",
       "      <th>max</th>\n",
       "      <td>77.000000</td>\n",
       "      <td>1.000000</td>\n",
       "      <td>4.000000</td>\n",
       "      <td>200.000000</td>\n",
       "      <td>564.000000</td>\n",
       "      <td>1.000000</td>\n",
       "      <td>2.000000</td>\n",
       "      <td>202.000000</td>\n",
       "      <td>1.000000</td>\n",
       "      <td>6.200000</td>\n",
       "      <td>3.000000</td>\n",
       "      <td>4.000000</td>\n",
       "    </tr>\n",
       "  </tbody>\n",
       "</table>\n",
       "</div>"
      ],
      "text/plain": [
       "              Age         Sex   ChestPain    Trestbps        Chol         Fbs  \\\n",
       "count  303.000000  303.000000  303.000000  303.000000  303.000000  303.000000   \n",
       "mean    54.438944    0.679868    3.158416  131.689769  246.693069    0.148515   \n",
       "std      9.038662    0.467299    0.960126   17.599748   51.776918    0.356198   \n",
       "min     29.000000    0.000000    1.000000   94.000000  126.000000    0.000000   \n",
       "25%     48.000000    0.000000    3.000000  120.000000  211.000000    0.000000   \n",
       "50%     56.000000    1.000000    3.000000  130.000000  241.000000    0.000000   \n",
       "75%     61.000000    1.000000    4.000000  140.000000  275.000000    0.000000   \n",
       "max     77.000000    1.000000    4.000000  200.000000  564.000000    1.000000   \n",
       "\n",
       "          Restecg     Thalach       Exang     Oldpeak       Slope       Class  \n",
       "count  303.000000  303.000000  303.000000  303.000000  303.000000  303.000000  \n",
       "mean     0.990099  149.607261    0.326733    1.039604    1.600660    0.937294  \n",
       "std      0.994971   22.875003    0.469794    1.161075    0.616226    1.228536  \n",
       "min      0.000000   71.000000    0.000000    0.000000    1.000000    0.000000  \n",
       "25%      0.000000  133.500000    0.000000    0.000000    1.000000    0.000000  \n",
       "50%      1.000000  153.000000    0.000000    0.800000    2.000000    0.000000  \n",
       "75%      2.000000  166.000000    1.000000    1.600000    2.000000    2.000000  \n",
       "max      2.000000  202.000000    1.000000    6.200000    3.000000    4.000000  "
      ]
     },
     "execution_count": 5,
     "metadata": {},
     "output_type": "execute_result"
    }
   ],
   "source": [
    "#Distribution of the data to check for outliers especially on the age column \n",
    "df.describe()"
   ]
  },
  {
   "cell_type": "markdown",
   "metadata": {
    "id": "8wo0RIVNSSiK"
   },
   "source": [
    "## 2. Preprocess the Dataset"
   ]
  },
  {
   "cell_type": "markdown",
   "metadata": {
    "id": "5ymR8zT6Sogq"
   },
   "source": [
    "### 2.1 Delete rows with missing values"
   ]
  },
  {
   "cell_type": "code",
   "execution_count": 6,
   "metadata": {
    "colab": {
     "base_uri": "https://localhost:8080/"
    },
    "id": "Hl3x4o79Sbcl",
    "outputId": "3fa3a7a2-8da6-4b10-c108-233c0e355248"
   },
   "outputs": [
    {
     "name": "stdout",
     "output_type": "stream",
     "text": [
      "['0.0' '3.0' '2.0' '1.0' '?']\n",
      "['6.0' '3.0' '7.0' '?']\n"
     ]
    }
   ],
   "source": [
    "# As Features \"CA\" and \"THAL\" are type object lets check what unique values they have \n",
    "print(df['Ca'].unique()) # Print unique values of \"ca\"\n",
    "print(df['Thal'].unique()) # Print unique values of \"thal\""
   ]
  },
  {
   "cell_type": "code",
   "execution_count": 7,
   "metadata": {
    "colab": {
     "base_uri": "https://localhost:8080/"
    },
    "id": "jkd3xv6SSgSU",
    "outputId": "af08eb1e-92e8-4840-d88d-4fd8228d745e"
   },
   "outputs": [
    {
     "name": "stdout",
     "output_type": "stream",
     "text": [
      " \"?\" values in the dataframe \n",
      "Age          0\n",
      "Sex          0\n",
      "ChestPain    0\n",
      "Trestbps     0\n",
      "Chol         0\n",
      "Fbs          0\n",
      "Restecg      0\n",
      "Thalach      0\n",
      "Exang        0\n",
      "Oldpeak      0\n",
      "Slope        0\n",
      "Ca           4\n",
      "Thal         2\n",
      "Class        0\n",
      "dtype: int64\n"
     ]
    }
   ],
   "source": [
    "# Missing values are stated with a questionmark, so let's see how many missing values we have\n",
    "print(\" \\\"?\\\" values in the dataframe \") # Print the phrase \"?\" values in the dataframe\n",
    "print((df == \"?\").sum(axis=0)) # Finding the number of \"?\" in each feature (column) and print the sum "
   ]
  },
  {
   "cell_type": "code",
   "execution_count": 8,
   "metadata": {
    "colab": {
     "base_uri": "https://localhost:8080/"
    },
    "id": "Tb_ySjh7SipZ",
    "outputId": "46d3ac90-0a1b-4717-e7d2-4a3ecfbb5ff1"
   },
   "outputs": [
    {
     "name": "stdout",
     "output_type": "stream",
     "text": [
      " \"?\" values in the dataframe \n",
      "Age          0\n",
      "Sex          0\n",
      "ChestPain    0\n",
      "Trestbps     0\n",
      "Chol         0\n",
      "Fbs          0\n",
      "Restecg      0\n",
      "Thalach      0\n",
      "Exang        0\n",
      "Oldpeak      0\n",
      "Slope        0\n",
      "Ca           0\n",
      "Thal         0\n",
      "Class        0\n",
      "dtype: int64\n"
     ]
    }
   ],
   "source": [
    "# Creating a new df in which the rows with values \"?\" from the columns \"ca\" and \"thal\" are excluded\n",
    "df = df[(df[\"Ca\"] != '?') & (df[\"Thal\"] != '?')]#This line will use only the rows that does not contain ?\n",
    "#In case we had empty values in the form of nan or null: \n",
    "#df.dropna(inplace = True) #  Deletion of null values \n",
    "print(\" \\\"?\\\" values in the dataframe \") # Print the phrase \"?\" values in the dataframe\n",
    "# Finding the number of \"?\" in each feature (column) and showing (printing) the sum of it to verify there are no more \"?\" values\n",
    "print((df == \"?\").sum(axis=0)) \n"
   ]
  },
  {
   "cell_type": "code",
   "execution_count": 9,
   "metadata": {
    "id": "boy66zrGIGYn"
   },
   "outputs": [
    {
     "data": {
      "text/plain": [
       "Age          float64\n",
       "Sex          float64\n",
       "ChestPain    float64\n",
       "Trestbps     float64\n",
       "Chol         float64\n",
       "Fbs          float64\n",
       "Restecg      float64\n",
       "Thalach      float64\n",
       "Exang        float64\n",
       "Oldpeak      float64\n",
       "Slope        float64\n",
       "Ca            object\n",
       "Thal          object\n",
       "Class          int64\n",
       "dtype: object"
      ]
     },
     "execution_count": 9,
     "metadata": {},
     "output_type": "execute_result"
    }
   ],
   "source": [
    "df = df.reset_index(drop=True) # Reset the index to make sure the index matches the number of entries \n",
    "df.dtypes"
   ]
  },
  {
   "cell_type": "markdown",
   "metadata": {},
   "source": [
    "### 2.2 Transform Data"
   ]
  },
  {
   "cell_type": "code",
   "execution_count": 10,
   "metadata": {},
   "outputs": [
    {
     "data": {
      "text/html": [
       "<div>\n",
       "<style scoped>\n",
       "    .dataframe tbody tr th:only-of-type {\n",
       "        vertical-align: middle;\n",
       "    }\n",
       "\n",
       "    .dataframe tbody tr th {\n",
       "        vertical-align: top;\n",
       "    }\n",
       "\n",
       "    .dataframe thead th {\n",
       "        text-align: right;\n",
       "    }\n",
       "</style>\n",
       "<table border=\"1\" class=\"dataframe\">\n",
       "  <thead>\n",
       "    <tr style=\"text-align: right;\">\n",
       "      <th></th>\n",
       "      <th>Age</th>\n",
       "      <th>Sex</th>\n",
       "      <th>ChestPain</th>\n",
       "      <th>Trestbps</th>\n",
       "      <th>Chol</th>\n",
       "      <th>Fbs</th>\n",
       "      <th>Restecg</th>\n",
       "      <th>Thalach</th>\n",
       "      <th>Exang</th>\n",
       "      <th>Oldpeak</th>\n",
       "      <th>Slope</th>\n",
       "      <th>Ca</th>\n",
       "      <th>Thal</th>\n",
       "      <th>Class</th>\n",
       "    </tr>\n",
       "  </thead>\n",
       "  <tbody>\n",
       "    <tr>\n",
       "      <th>0</th>\n",
       "      <td>63.0</td>\n",
       "      <td>1.0</td>\n",
       "      <td>1.0</td>\n",
       "      <td>145.0</td>\n",
       "      <td>233.0</td>\n",
       "      <td>1.0</td>\n",
       "      <td>2.0</td>\n",
       "      <td>150.0</td>\n",
       "      <td>0.0</td>\n",
       "      <td>2.3</td>\n",
       "      <td>3.0</td>\n",
       "      <td>0.0</td>\n",
       "      <td>6.0</td>\n",
       "      <td>0</td>\n",
       "    </tr>\n",
       "    <tr>\n",
       "      <th>1</th>\n",
       "      <td>67.0</td>\n",
       "      <td>1.0</td>\n",
       "      <td>4.0</td>\n",
       "      <td>160.0</td>\n",
       "      <td>286.0</td>\n",
       "      <td>0.0</td>\n",
       "      <td>2.0</td>\n",
       "      <td>108.0</td>\n",
       "      <td>1.0</td>\n",
       "      <td>1.5</td>\n",
       "      <td>2.0</td>\n",
       "      <td>3.0</td>\n",
       "      <td>3.0</td>\n",
       "      <td>2</td>\n",
       "    </tr>\n",
       "    <tr>\n",
       "      <th>2</th>\n",
       "      <td>67.0</td>\n",
       "      <td>1.0</td>\n",
       "      <td>4.0</td>\n",
       "      <td>120.0</td>\n",
       "      <td>229.0</td>\n",
       "      <td>0.0</td>\n",
       "      <td>2.0</td>\n",
       "      <td>129.0</td>\n",
       "      <td>1.0</td>\n",
       "      <td>2.6</td>\n",
       "      <td>2.0</td>\n",
       "      <td>2.0</td>\n",
       "      <td>7.0</td>\n",
       "      <td>1</td>\n",
       "    </tr>\n",
       "    <tr>\n",
       "      <th>3</th>\n",
       "      <td>37.0</td>\n",
       "      <td>1.0</td>\n",
       "      <td>3.0</td>\n",
       "      <td>130.0</td>\n",
       "      <td>250.0</td>\n",
       "      <td>0.0</td>\n",
       "      <td>0.0</td>\n",
       "      <td>187.0</td>\n",
       "      <td>0.0</td>\n",
       "      <td>3.5</td>\n",
       "      <td>3.0</td>\n",
       "      <td>0.0</td>\n",
       "      <td>3.0</td>\n",
       "      <td>0</td>\n",
       "    </tr>\n",
       "    <tr>\n",
       "      <th>4</th>\n",
       "      <td>41.0</td>\n",
       "      <td>0.0</td>\n",
       "      <td>2.0</td>\n",
       "      <td>130.0</td>\n",
       "      <td>204.0</td>\n",
       "      <td>0.0</td>\n",
       "      <td>2.0</td>\n",
       "      <td>172.0</td>\n",
       "      <td>0.0</td>\n",
       "      <td>1.4</td>\n",
       "      <td>1.0</td>\n",
       "      <td>0.0</td>\n",
       "      <td>3.0</td>\n",
       "      <td>0</td>\n",
       "    </tr>\n",
       "  </tbody>\n",
       "</table>\n",
       "</div>"
      ],
      "text/plain": [
       "    Age  Sex  ChestPain  Trestbps   Chol  Fbs  Restecg  Thalach  Exang  \\\n",
       "0  63.0  1.0        1.0     145.0  233.0  1.0      2.0    150.0    0.0   \n",
       "1  67.0  1.0        4.0     160.0  286.0  0.0      2.0    108.0    1.0   \n",
       "2  67.0  1.0        4.0     120.0  229.0  0.0      2.0    129.0    1.0   \n",
       "3  37.0  1.0        3.0     130.0  250.0  0.0      0.0    187.0    0.0   \n",
       "4  41.0  0.0        2.0     130.0  204.0  0.0      2.0    172.0    0.0   \n",
       "\n",
       "   Oldpeak  Slope   Ca Thal  Class  \n",
       "0      2.3    3.0  0.0  6.0      0  \n",
       "1      1.5    2.0  3.0  3.0      2  \n",
       "2      2.6    2.0  2.0  7.0      1  \n",
       "3      3.5    3.0  0.0  3.0      0  \n",
       "4      1.4    1.0  0.0  3.0      0  "
      ]
     },
     "execution_count": 10,
     "metadata": {},
     "output_type": "execute_result"
    }
   ],
   "source": [
    "#Create a copy of the dataframe to work in the machine learning model \n",
    "#The transformation of data is done in Python instead of PowerBi to ease up the reproducibility and demonstrate the procedure\n",
    "dfmodel=df.copy()\n",
    "dfmodel.head()"
   ]
  },
  {
   "cell_type": "code",
   "execution_count": 11,
   "metadata": {},
   "outputs": [
    {
     "name": "stderr",
     "output_type": "stream",
     "text": [
      "C:\\Users\\rony_\\AppData\\Local\\Temp\\ipykernel_13264\\4158199636.py:16: FutureWarning: The behavior of Series.replace (and DataFrame.replace) with CategoricalDtype is deprecated. In a future version, replace will only be used for cases that preserve the categories. To change the categories, use ser.cat.rename_categories instead.\n",
      "  df['Sex'] = df['Sex'].replace({0: 'Female', 1: 'Male'})\n",
      "C:\\Users\\rony_\\AppData\\Local\\Temp\\ipykernel_13264\\4158199636.py:17: FutureWarning: The behavior of Series.replace (and DataFrame.replace) with CategoricalDtype is deprecated. In a future version, replace will only be used for cases that preserve the categories. To change the categories, use ser.cat.rename_categories instead.\n",
      "  df['ChestPain'] = df['ChestPain'].replace({1: 'Typical angina', 2: 'Atypical angina',3:'Non-anginal pain',4:'Asymptomatic'})\n",
      "C:\\Users\\rony_\\AppData\\Local\\Temp\\ipykernel_13264\\4158199636.py:18: FutureWarning: The behavior of Series.replace (and DataFrame.replace) with CategoricalDtype is deprecated. In a future version, replace will only be used for cases that preserve the categories. To change the categories, use ser.cat.rename_categories instead.\n",
      "  df['Fbs'] = df['Fbs'].replace({0: 'Normal', 1: 'High'})\n",
      "C:\\Users\\rony_\\AppData\\Local\\Temp\\ipykernel_13264\\4158199636.py:19: FutureWarning: The behavior of Series.replace (and DataFrame.replace) with CategoricalDtype is deprecated. In a future version, replace will only be used for cases that preserve the categories. To change the categories, use ser.cat.rename_categories instead.\n",
      "  df['Restecg'] = df['Restecg'].replace({0: 'Normal', 1: 'Abnormal',2:'Probable hypertrophy'})\n",
      "C:\\Users\\rony_\\AppData\\Local\\Temp\\ipykernel_13264\\4158199636.py:20: FutureWarning: The behavior of Series.replace (and DataFrame.replace) with CategoricalDtype is deprecated. In a future version, replace will only be used for cases that preserve the categories. To change the categories, use ser.cat.rename_categories instead.\n",
      "  df['Exang'] = df['Exang'].replace({0: 'No', 1: 'Yes'})\n",
      "C:\\Users\\rony_\\AppData\\Local\\Temp\\ipykernel_13264\\4158199636.py:21: FutureWarning: The behavior of Series.replace (and DataFrame.replace) with CategoricalDtype is deprecated. In a future version, replace will only be used for cases that preserve the categories. To change the categories, use ser.cat.rename_categories instead.\n",
      "  df['Slope'] = df['Slope'].replace({1: 'Upsloping', 2: 'Flat',3:'Downsloping'})\n",
      "C:\\Users\\rony_\\AppData\\Local\\Temp\\ipykernel_13264\\4158199636.py:22: FutureWarning: The behavior of Series.replace (and DataFrame.replace) with CategoricalDtype is deprecated. In a future version, replace will only be used for cases that preserve the categories. To change the categories, use ser.cat.rename_categories instead.\n",
      "  df['Thal'] = df['Thal'].replace({3.0: 'Normal',6:'Fixed defect',7:'Reversable defect'})\n"
     ]
    }
   ],
   "source": [
    "#Now that the data is clean, we have to convert it to the correct datatype\n",
    "df[\"Age\"] = df[\"Age\"].astype(\"int\")\n",
    "df[\"Sex\"] = df[\"Sex\"].astype(\"category\")\n",
    "df[\"ChestPain\"] = df[\"ChestPain\"].astype(\"category\")\n",
    "df[\"Fbs\"] = df[\"Fbs\"].astype(\"category\")\n",
    "df[\"Restecg\"] = df[\"Restecg\"].astype(\"category\")\n",
    "df[\"Thalach\"] = df[\"Thalach\"].astype(\"int\")\n",
    "df[\"Exang\"] = df[\"Exang\"].astype(\"category\")\n",
    "df[\"Slope\"] = df[\"Slope\"].astype(\"category\")\n",
    "df[\"Ca\"] = pd.to_numeric(df['Ca'])\n",
    "df[\"Ca\"]=df[\"Ca\"].astype(\"int\")\n",
    "df[\"Thal\"] = pd.to_numeric(df['Thal'])\n",
    "df[\"Thal\"] = df[\"Thal\"].astype(\"category\")\n",
    "df[\"Class\"]=df[\"Class\"].astype(\"category\")\n",
    "# Rename values \n",
    "df['Sex'] = df['Sex'].replace({0: 'Female', 1: 'Male'})\n",
    "df['ChestPain'] = df['ChestPain'].replace({1: 'Typical angina', 2: 'Atypical angina',3:'Non-anginal pain',4:'Asymptomatic'})\n",
    "df['Fbs'] = df['Fbs'].replace({0: 'Normal', 1: 'High'})\n",
    "df['Restecg'] = df['Restecg'].replace({0: 'Normal', 1: 'Abnormal',2:'Probable hypertrophy'})\n",
    "df['Exang'] = df['Exang'].replace({0: 'No', 1: 'Yes'})\n",
    "df['Slope'] = df['Slope'].replace({1: 'Upsloping', 2: 'Flat',3:'Downsloping'})\n",
    "df['Thal'] = df['Thal'].replace({3.0: 'Normal',6:'Fixed defect',7:'Reversable defect'})\n",
    "\n",
    "\n"
   ]
  },
  {
   "cell_type": "code",
   "execution_count": 12,
   "metadata": {},
   "outputs": [
    {
     "data": {
      "text/html": [
       "<div>\n",
       "<style scoped>\n",
       "    .dataframe tbody tr th:only-of-type {\n",
       "        vertical-align: middle;\n",
       "    }\n",
       "\n",
       "    .dataframe tbody tr th {\n",
       "        vertical-align: top;\n",
       "    }\n",
       "\n",
       "    .dataframe thead th {\n",
       "        text-align: right;\n",
       "    }\n",
       "</style>\n",
       "<table border=\"1\" class=\"dataframe\">\n",
       "  <thead>\n",
       "    <tr style=\"text-align: right;\">\n",
       "      <th></th>\n",
       "      <th>Age</th>\n",
       "      <th>Sex</th>\n",
       "      <th>ChestPain</th>\n",
       "      <th>Trestbps</th>\n",
       "      <th>Chol</th>\n",
       "      <th>Fbs</th>\n",
       "      <th>Restecg</th>\n",
       "      <th>Thalach</th>\n",
       "      <th>Exang</th>\n",
       "      <th>Oldpeak</th>\n",
       "      <th>Slope</th>\n",
       "      <th>Ca</th>\n",
       "      <th>Thal</th>\n",
       "      <th>Class</th>\n",
       "    </tr>\n",
       "  </thead>\n",
       "  <tbody>\n",
       "    <tr>\n",
       "      <th>0</th>\n",
       "      <td>63</td>\n",
       "      <td>Male</td>\n",
       "      <td>Typical angina</td>\n",
       "      <td>145.0</td>\n",
       "      <td>233.0</td>\n",
       "      <td>High</td>\n",
       "      <td>Probable hypertrophy</td>\n",
       "      <td>150</td>\n",
       "      <td>No</td>\n",
       "      <td>2.3</td>\n",
       "      <td>Downsloping</td>\n",
       "      <td>0</td>\n",
       "      <td>Fixed defect</td>\n",
       "      <td>0</td>\n",
       "    </tr>\n",
       "    <tr>\n",
       "      <th>1</th>\n",
       "      <td>67</td>\n",
       "      <td>Male</td>\n",
       "      <td>Asymptomatic</td>\n",
       "      <td>160.0</td>\n",
       "      <td>286.0</td>\n",
       "      <td>Normal</td>\n",
       "      <td>Probable hypertrophy</td>\n",
       "      <td>108</td>\n",
       "      <td>Yes</td>\n",
       "      <td>1.5</td>\n",
       "      <td>Flat</td>\n",
       "      <td>3</td>\n",
       "      <td>Normal</td>\n",
       "      <td>2</td>\n",
       "    </tr>\n",
       "    <tr>\n",
       "      <th>2</th>\n",
       "      <td>67</td>\n",
       "      <td>Male</td>\n",
       "      <td>Asymptomatic</td>\n",
       "      <td>120.0</td>\n",
       "      <td>229.0</td>\n",
       "      <td>Normal</td>\n",
       "      <td>Probable hypertrophy</td>\n",
       "      <td>129</td>\n",
       "      <td>Yes</td>\n",
       "      <td>2.6</td>\n",
       "      <td>Flat</td>\n",
       "      <td>2</td>\n",
       "      <td>Reversable defect</td>\n",
       "      <td>1</td>\n",
       "    </tr>\n",
       "    <tr>\n",
       "      <th>3</th>\n",
       "      <td>37</td>\n",
       "      <td>Male</td>\n",
       "      <td>Non-anginal pain</td>\n",
       "      <td>130.0</td>\n",
       "      <td>250.0</td>\n",
       "      <td>Normal</td>\n",
       "      <td>Normal</td>\n",
       "      <td>187</td>\n",
       "      <td>No</td>\n",
       "      <td>3.5</td>\n",
       "      <td>Downsloping</td>\n",
       "      <td>0</td>\n",
       "      <td>Normal</td>\n",
       "      <td>0</td>\n",
       "    </tr>\n",
       "    <tr>\n",
       "      <th>4</th>\n",
       "      <td>41</td>\n",
       "      <td>Female</td>\n",
       "      <td>Atypical angina</td>\n",
       "      <td>130.0</td>\n",
       "      <td>204.0</td>\n",
       "      <td>Normal</td>\n",
       "      <td>Probable hypertrophy</td>\n",
       "      <td>172</td>\n",
       "      <td>No</td>\n",
       "      <td>1.4</td>\n",
       "      <td>Upsloping</td>\n",
       "      <td>0</td>\n",
       "      <td>Normal</td>\n",
       "      <td>0</td>\n",
       "    </tr>\n",
       "  </tbody>\n",
       "</table>\n",
       "</div>"
      ],
      "text/plain": [
       "   Age     Sex         ChestPain  Trestbps   Chol     Fbs  \\\n",
       "0   63    Male    Typical angina     145.0  233.0    High   \n",
       "1   67    Male      Asymptomatic     160.0  286.0  Normal   \n",
       "2   67    Male      Asymptomatic     120.0  229.0  Normal   \n",
       "3   37    Male  Non-anginal pain     130.0  250.0  Normal   \n",
       "4   41  Female   Atypical angina     130.0  204.0  Normal   \n",
       "\n",
       "                Restecg  Thalach Exang  Oldpeak        Slope  Ca  \\\n",
       "0  Probable hypertrophy      150    No      2.3  Downsloping   0   \n",
       "1  Probable hypertrophy      108   Yes      1.5         Flat   3   \n",
       "2  Probable hypertrophy      129   Yes      2.6         Flat   2   \n",
       "3                Normal      187    No      3.5  Downsloping   0   \n",
       "4  Probable hypertrophy      172    No      1.4    Upsloping   0   \n",
       "\n",
       "                Thal Class  \n",
       "0       Fixed defect     0  \n",
       "1             Normal     2  \n",
       "2  Reversable defect     1  \n",
       "3             Normal     0  \n",
       "4             Normal     0  "
      ]
     },
     "execution_count": 12,
     "metadata": {},
     "output_type": "execute_result"
    }
   ],
   "source": [
    "df.head()"
   ]
  },
  {
   "cell_type": "code",
   "execution_count": 13,
   "metadata": {
    "colab": {
     "base_uri": "https://localhost:8080/"
    },
    "id": "gcEkSiwhxg1Y",
    "outputId": "6ee8c1fc-2603-4631-d170-e10b8874aff0"
   },
   "outputs": [
    {
     "data": {
      "text/plain": [
       "(297, 14)"
      ]
     },
     "execution_count": 13,
     "metadata": {},
     "output_type": "execute_result"
    }
   ],
   "source": [
    "df.shape # Size after deletion of missing values\n",
    "#After the cleaning phase we have deleted 6 rows in total ,approximately 1.98%."
   ]
  },
  {
   "cell_type": "markdown",
   "metadata": {
    "id": "ux4WaTkObdin"
   },
   "source": [
    "### 2.3 Check Class labels\n"
   ]
  },
  {
   "cell_type": "markdown",
   "metadata": {},
   "source": [
    "Class= 0: Healthy \\\n",
    "Class=> 1: Not *healthy* \\\n",
    "Prediction outcome will categorize  healthy or not healthy , therefore class 1,2,3,4 will be considered not healthy and grouped together in one single class"
   ]
  },
  {
   "cell_type": "code",
   "execution_count": 14,
   "metadata": {},
   "outputs": [
    {
     "data": {
      "text/plain": [
       "Class\n",
       "0    160\n",
       "1     54\n",
       "2     35\n",
       "3     35\n",
       "4     13\n",
       "Name: count, dtype: int64"
      ]
     },
     "execution_count": 14,
     "metadata": {},
     "output_type": "execute_result"
    }
   ],
   "source": [
    "df[\"Class\"].value_counts() # Count and show the number of values per class label\n"
   ]
  },
  {
   "cell_type": "code",
   "execution_count": 15,
   "metadata": {},
   "outputs": [
    {
     "name": "stderr",
     "output_type": "stream",
     "text": [
      "C:\\Users\\rony_\\AppData\\Local\\Temp\\ipykernel_13264\\2000051092.py:2: FutureWarning: A value is trying to be set on a copy of a DataFrame or Series through chained assignment using an inplace method.\n",
      "The behavior will change in pandas 3.0. This inplace method will never work because the intermediate object on which we are setting values always behaves as a copy.\n",
      "\n",
      "For example, when doing 'df[col].method(value, inplace=True)', try using 'df.method({col: value}, inplace=True)' or df[col] = df[col].method(value) instead, to perform the operation inplace on the original object.\n",
      "\n",
      "\n",
      "  df[\"Class\"].replace({2: 1, 3: 1, 4:1}, inplace=True)\n",
      "C:\\Users\\rony_\\AppData\\Local\\Temp\\ipykernel_13264\\2000051092.py:2: FutureWarning: The behavior of Series.replace (and DataFrame.replace) with CategoricalDtype is deprecated. In a future version, replace will only be used for cases that preserve the categories. To change the categories, use ser.cat.rename_categories instead.\n",
      "  df[\"Class\"].replace({2: 1, 3: 1, 4:1}, inplace=True)\n",
      "C:\\Users\\rony_\\AppData\\Local\\Temp\\ipykernel_13264\\2000051092.py:3: FutureWarning: A value is trying to be set on a copy of a DataFrame or Series through chained assignment using an inplace method.\n",
      "The behavior will change in pandas 3.0. This inplace method will never work because the intermediate object on which we are setting values always behaves as a copy.\n",
      "\n",
      "For example, when doing 'df[col].method(value, inplace=True)', try using 'df.method({col: value}, inplace=True)' or df[col] = df[col].method(value) instead, to perform the operation inplace on the original object.\n",
      "\n",
      "\n",
      "  dfmodel[\"Class\"].replace({2: 1, 3: 1, 4:1}, inplace=True)#replace the class labels in the models dataframe\n"
     ]
    }
   ],
   "source": [
    "# Changing values from 1-4 to 1, because 1 means they have a heart disease i.e. not healthy \n",
    "df[\"Class\"].replace({2: 1, 3: 1, 4:1}, inplace=True) \n",
    "dfmodel[\"Class\"].replace({2: 1, 3: 1, 4:1}, inplace=True)#replace the class labels in the models dataframe"
   ]
  },
  {
   "cell_type": "code",
   "execution_count": 16,
   "metadata": {},
   "outputs": [
    {
     "data": {
      "text/plain": [
       "Class\n",
       "0    160\n",
       "1    137\n",
       "Name: count, dtype: int64"
      ]
     },
     "execution_count": 16,
     "metadata": {},
     "output_type": "execute_result"
    }
   ],
   "source": [
    "df[\"Class\"].value_counts() # Count the amount of values for each class label "
   ]
  },
  {
   "cell_type": "markdown",
   "metadata": {},
   "source": [
    "Important  * After joining the \"not healthy\" labels into a single one, the dataset is now more balanced * "
   ]
  },
  {
   "cell_type": "code",
   "execution_count": 17,
   "metadata": {},
   "outputs": [
    {
     "name": "stderr",
     "output_type": "stream",
     "text": [
      "C:\\Users\\rony_\\AppData\\Local\\Temp\\ipykernel_13264\\886044704.py:2: FutureWarning: The behavior of Series.replace (and DataFrame.replace) with CategoricalDtype is deprecated. In a future version, replace will only be used for cases that preserve the categories. To change the categories, use ser.cat.rename_categories instead.\n",
      "  df['Class'] = df['Class'].replace({0: 'Healthy', 1: 'Not Healthy'})\n"
     ]
    },
    {
     "data": {
      "text/html": [
       "<div>\n",
       "<style scoped>\n",
       "    .dataframe tbody tr th:only-of-type {\n",
       "        vertical-align: middle;\n",
       "    }\n",
       "\n",
       "    .dataframe tbody tr th {\n",
       "        vertical-align: top;\n",
       "    }\n",
       "\n",
       "    .dataframe thead th {\n",
       "        text-align: right;\n",
       "    }\n",
       "</style>\n",
       "<table border=\"1\" class=\"dataframe\">\n",
       "  <thead>\n",
       "    <tr style=\"text-align: right;\">\n",
       "      <th></th>\n",
       "      <th>Age</th>\n",
       "      <th>Sex</th>\n",
       "      <th>ChestPain</th>\n",
       "      <th>Trestbps</th>\n",
       "      <th>Chol</th>\n",
       "      <th>Fbs</th>\n",
       "      <th>Restecg</th>\n",
       "      <th>Thalach</th>\n",
       "      <th>Exang</th>\n",
       "      <th>Oldpeak</th>\n",
       "      <th>Slope</th>\n",
       "      <th>Ca</th>\n",
       "      <th>Thal</th>\n",
       "      <th>Class</th>\n",
       "    </tr>\n",
       "  </thead>\n",
       "  <tbody>\n",
       "    <tr>\n",
       "      <th>0</th>\n",
       "      <td>63</td>\n",
       "      <td>Male</td>\n",
       "      <td>Typical angina</td>\n",
       "      <td>145.0</td>\n",
       "      <td>233.0</td>\n",
       "      <td>High</td>\n",
       "      <td>Probable hypertrophy</td>\n",
       "      <td>150</td>\n",
       "      <td>No</td>\n",
       "      <td>2.3</td>\n",
       "      <td>Downsloping</td>\n",
       "      <td>0</td>\n",
       "      <td>Fixed defect</td>\n",
       "      <td>Healthy</td>\n",
       "    </tr>\n",
       "    <tr>\n",
       "      <th>1</th>\n",
       "      <td>67</td>\n",
       "      <td>Male</td>\n",
       "      <td>Asymptomatic</td>\n",
       "      <td>160.0</td>\n",
       "      <td>286.0</td>\n",
       "      <td>Normal</td>\n",
       "      <td>Probable hypertrophy</td>\n",
       "      <td>108</td>\n",
       "      <td>Yes</td>\n",
       "      <td>1.5</td>\n",
       "      <td>Flat</td>\n",
       "      <td>3</td>\n",
       "      <td>Normal</td>\n",
       "      <td>Not Healthy</td>\n",
       "    </tr>\n",
       "    <tr>\n",
       "      <th>2</th>\n",
       "      <td>67</td>\n",
       "      <td>Male</td>\n",
       "      <td>Asymptomatic</td>\n",
       "      <td>120.0</td>\n",
       "      <td>229.0</td>\n",
       "      <td>Normal</td>\n",
       "      <td>Probable hypertrophy</td>\n",
       "      <td>129</td>\n",
       "      <td>Yes</td>\n",
       "      <td>2.6</td>\n",
       "      <td>Flat</td>\n",
       "      <td>2</td>\n",
       "      <td>Reversable defect</td>\n",
       "      <td>Not Healthy</td>\n",
       "    </tr>\n",
       "    <tr>\n",
       "      <th>3</th>\n",
       "      <td>37</td>\n",
       "      <td>Male</td>\n",
       "      <td>Non-anginal pain</td>\n",
       "      <td>130.0</td>\n",
       "      <td>250.0</td>\n",
       "      <td>Normal</td>\n",
       "      <td>Normal</td>\n",
       "      <td>187</td>\n",
       "      <td>No</td>\n",
       "      <td>3.5</td>\n",
       "      <td>Downsloping</td>\n",
       "      <td>0</td>\n",
       "      <td>Normal</td>\n",
       "      <td>Healthy</td>\n",
       "    </tr>\n",
       "    <tr>\n",
       "      <th>4</th>\n",
       "      <td>41</td>\n",
       "      <td>Female</td>\n",
       "      <td>Atypical angina</td>\n",
       "      <td>130.0</td>\n",
       "      <td>204.0</td>\n",
       "      <td>Normal</td>\n",
       "      <td>Probable hypertrophy</td>\n",
       "      <td>172</td>\n",
       "      <td>No</td>\n",
       "      <td>1.4</td>\n",
       "      <td>Upsloping</td>\n",
       "      <td>0</td>\n",
       "      <td>Normal</td>\n",
       "      <td>Healthy</td>\n",
       "    </tr>\n",
       "  </tbody>\n",
       "</table>\n",
       "</div>"
      ],
      "text/plain": [
       "   Age     Sex         ChestPain  Trestbps   Chol     Fbs  \\\n",
       "0   63    Male    Typical angina     145.0  233.0    High   \n",
       "1   67    Male      Asymptomatic     160.0  286.0  Normal   \n",
       "2   67    Male      Asymptomatic     120.0  229.0  Normal   \n",
       "3   37    Male  Non-anginal pain     130.0  250.0  Normal   \n",
       "4   41  Female   Atypical angina     130.0  204.0  Normal   \n",
       "\n",
       "                Restecg  Thalach Exang  Oldpeak        Slope  Ca  \\\n",
       "0  Probable hypertrophy      150    No      2.3  Downsloping   0   \n",
       "1  Probable hypertrophy      108   Yes      1.5         Flat   3   \n",
       "2  Probable hypertrophy      129   Yes      2.6         Flat   2   \n",
       "3                Normal      187    No      3.5  Downsloping   0   \n",
       "4  Probable hypertrophy      172    No      1.4    Upsloping   0   \n",
       "\n",
       "                Thal        Class  \n",
       "0       Fixed defect      Healthy  \n",
       "1             Normal  Not Healthy  \n",
       "2  Reversable defect  Not Healthy  \n",
       "3             Normal      Healthy  \n",
       "4             Normal      Healthy  "
      ]
     },
     "execution_count": 17,
     "metadata": {},
     "output_type": "execute_result"
    }
   ],
   "source": [
    "#Rename the values of Class column\n",
    "df['Class'] = df['Class'].replace({0: 'Healthy', 1: 'Not Healthy'})\n",
    "df.head()"
   ]
  },
  {
   "cell_type": "markdown",
   "metadata": {},
   "source": [
    "### 2.4 Save the CSVs\n",
    "Saving the csv files for reproducibility and use in PowerBi tool."
   ]
  },
  {
   "cell_type": "code",
   "execution_count": 18,
   "metadata": {},
   "outputs": [],
   "source": [
    "df.to_csv('Cleveland_TransformedData.csv', index=False)\n",
    "dfmodel.to_csv('Cleveland_ModelData.csv', index=False)"
   ]
  },
  {
   "cell_type": "markdown",
   "metadata": {
    "id": "LEA3LEemSz_U"
   },
   "source": [
    "## 3. Exploratory Data Analysis (EDA)"
   ]
  },
  {
   "cell_type": "markdown",
   "metadata": {},
   "source": [
    "A small data analysis is performed in python just to grasp a notion of what is behind the data.\n",
    "A dedicated data analysis is done in Power Bi"
   ]
  },
  {
   "cell_type": "markdown",
   "metadata": {
    "id": "i1Xq-Bt6cDwN"
   },
   "source": [
    "Comparison of women vs men "
   ]
  },
  {
   "cell_type": "code",
   "execution_count": 19,
   "metadata": {
    "colab": {
     "base_uri": "https://localhost:8080/",
     "height": 383
    },
    "id": "bKkQayDtcx3c",
    "outputId": "4eec8f26-63f5-4c4b-a620-34331e0c829a"
   },
   "outputs": [
    {
     "data": {
      "image/png": "[encoded data removed]",
      "text/plain": [
       "<Figure size 640x480 with 1 Axes>"
      ]
     },
     "metadata": {},
     "output_type": "display_data"
    },
    {
     "data": {
      "text/plain": [
       "Sex  Class\n",
       "0.0  0         71\n",
       "     1         25\n",
       "1.0  1        112\n",
       "     0         89\n",
       "Name: count, dtype: int64"
      ]
     },
     "execution_count": 19,
     "metadata": {},
     "output_type": "execute_result"
    }
   ],
   "source": [
    "# We are going to plot the negative and positive values (healthy/not healthy) grouped by sex.\n",
    "# This way we can compare the outcomes between women and men.\n",
    "\n",
    "ylabels = ['Healthy', 'Not Healthy']  # The labels we use for the legend\n",
    "xlabels = [\"Female\", \"Male\"]  # The labels we use for the x-axis\n",
    "\n",
    "positions = (0, 1)  # Positions for the bars in the plot\n",
    "\n",
    "Sex = dfmodel.groupby(\"Sex\")['Class'].value_counts()  # Grouping by sex and class\n",
    "ax = Sex.unstack().plot(kind='bar', legend=False, rot=0)  # Creating the bar plot\n",
    "\n",
    "plt.legend(labels=ylabels)  # Create the legend based on who is healthy/not healthy\n",
    "plt.xticks(ticks=positions, labels=xlabels)  # Set the x-axis labels\n",
    "plt.xlabel(\"Sex\")  # Label for the x-axis\n",
    "plt.ylabel(\"Count\")  # Label for the y-axis\n",
    "\n",
    "plt.show()  # Show the plot\n",
    "Sex  # Print the values we see in the plot to check the exact values"
   ]
  },
  {
   "cell_type": "markdown",
   "metadata": {
    "id": "SUS0sVXa4AEO"
   },
   "source": [
    "## 4. Standardization"
   ]
  },
  {
   "cell_type": "code",
   "execution_count": 20,
   "metadata": {
    "id": "pDIGRppfMT6_"
   },
   "outputs": [],
   "source": [
    "# Define the columns in which the values are numerical \n",
    "numerical = [\"Age\", \"Trestbps\", \"Chol\", \"Thalach\", \"Oldpeak\", \"Ca\"]\n",
    "X = dfmodel[numerical] # Create a dataframe for standardization that only includes the numerical features\n",
    "# We compared the evaluation metrics of MinMaxScaler() and StandardScaler()\n",
    "# MinMaxScaler() scored slightly better in model performance , so MinMaxScaler() is selected as default scaler\n",
    "scaler=MinMaxScaler() # Standardize the dataset\n",
    "df_standard = scaler.fit_transform(X) #fit and transform the data\n",
    "# Create a dataframe with the standardized values\n",
    "df_standard = pd.DataFrame(df_standard, columns=numerical) "
   ]
  },
  {
   "cell_type": "code",
   "execution_count": 21,
   "metadata": {
    "colab": {
     "base_uri": "https://localhost:8080/",
     "height": 206
    },
    "id": "8ZlWeJahzSwT",
    "outputId": "c201cf23-6816-4f73-d99c-a0bc58ed2de1"
   },
   "outputs": [
    {
     "data": {
      "text/html": [
       "<div>\n",
       "<style scoped>\n",
       "    .dataframe tbody tr th:only-of-type {\n",
       "        vertical-align: middle;\n",
       "    }\n",
       "\n",
       "    .dataframe tbody tr th {\n",
       "        vertical-align: top;\n",
       "    }\n",
       "\n",
       "    .dataframe thead th {\n",
       "        text-align: right;\n",
       "    }\n",
       "</style>\n",
       "<table border=\"1\" class=\"dataframe\">\n",
       "  <thead>\n",
       "    <tr style=\"text-align: right;\">\n",
       "      <th></th>\n",
       "      <th>Age</th>\n",
       "      <th>Sex</th>\n",
       "      <th>ChestPain</th>\n",
       "      <th>Trestbps</th>\n",
       "      <th>Chol</th>\n",
       "      <th>Fbs</th>\n",
       "      <th>Restecg</th>\n",
       "      <th>Thalach</th>\n",
       "      <th>Exang</th>\n",
       "      <th>Oldpeak</th>\n",
       "      <th>Slope</th>\n",
       "      <th>Ca</th>\n",
       "      <th>Thal</th>\n",
       "      <th>Class</th>\n",
       "    </tr>\n",
       "  </thead>\n",
       "  <tbody>\n",
       "    <tr>\n",
       "      <th>0</th>\n",
       "      <td>0.708333</td>\n",
       "      <td>1.0</td>\n",
       "      <td>1.0</td>\n",
       "      <td>0.481132</td>\n",
       "      <td>0.244292</td>\n",
       "      <td>1.0</td>\n",
       "      <td>2.0</td>\n",
       "      <td>0.603053</td>\n",
       "      <td>0.0</td>\n",
       "      <td>0.370968</td>\n",
       "      <td>3.0</td>\n",
       "      <td>0.000000</td>\n",
       "      <td>6.0</td>\n",
       "      <td>0</td>\n",
       "    </tr>\n",
       "    <tr>\n",
       "      <th>1</th>\n",
       "      <td>0.791667</td>\n",
       "      <td>1.0</td>\n",
       "      <td>4.0</td>\n",
       "      <td>0.622642</td>\n",
       "      <td>0.365297</td>\n",
       "      <td>0.0</td>\n",
       "      <td>2.0</td>\n",
       "      <td>0.282443</td>\n",
       "      <td>1.0</td>\n",
       "      <td>0.241935</td>\n",
       "      <td>2.0</td>\n",
       "      <td>1.000000</td>\n",
       "      <td>3.0</td>\n",
       "      <td>1</td>\n",
       "    </tr>\n",
       "    <tr>\n",
       "      <th>2</th>\n",
       "      <td>0.791667</td>\n",
       "      <td>1.0</td>\n",
       "      <td>4.0</td>\n",
       "      <td>0.245283</td>\n",
       "      <td>0.235160</td>\n",
       "      <td>0.0</td>\n",
       "      <td>2.0</td>\n",
       "      <td>0.442748</td>\n",
       "      <td>1.0</td>\n",
       "      <td>0.419355</td>\n",
       "      <td>2.0</td>\n",
       "      <td>0.666667</td>\n",
       "      <td>7.0</td>\n",
       "      <td>1</td>\n",
       "    </tr>\n",
       "    <tr>\n",
       "      <th>3</th>\n",
       "      <td>0.166667</td>\n",
       "      <td>1.0</td>\n",
       "      <td>3.0</td>\n",
       "      <td>0.339623</td>\n",
       "      <td>0.283105</td>\n",
       "      <td>0.0</td>\n",
       "      <td>0.0</td>\n",
       "      <td>0.885496</td>\n",
       "      <td>0.0</td>\n",
       "      <td>0.564516</td>\n",
       "      <td>3.0</td>\n",
       "      <td>0.000000</td>\n",
       "      <td>3.0</td>\n",
       "      <td>0</td>\n",
       "    </tr>\n",
       "    <tr>\n",
       "      <th>4</th>\n",
       "      <td>0.250000</td>\n",
       "      <td>0.0</td>\n",
       "      <td>2.0</td>\n",
       "      <td>0.339623</td>\n",
       "      <td>0.178082</td>\n",
       "      <td>0.0</td>\n",
       "      <td>2.0</td>\n",
       "      <td>0.770992</td>\n",
       "      <td>0.0</td>\n",
       "      <td>0.225806</td>\n",
       "      <td>1.0</td>\n",
       "      <td>0.000000</td>\n",
       "      <td>3.0</td>\n",
       "      <td>0</td>\n",
       "    </tr>\n",
       "  </tbody>\n",
       "</table>\n",
       "</div>"
      ],
      "text/plain": [
       "        Age  Sex  ChestPain  Trestbps      Chol  Fbs  Restecg   Thalach  \\\n",
       "0  0.708333  1.0        1.0  0.481132  0.244292  1.0      2.0  0.603053   \n",
       "1  0.791667  1.0        4.0  0.622642  0.365297  0.0      2.0  0.282443   \n",
       "2  0.791667  1.0        4.0  0.245283  0.235160  0.0      2.0  0.442748   \n",
       "3  0.166667  1.0        3.0  0.339623  0.283105  0.0      0.0  0.885496   \n",
       "4  0.250000  0.0        2.0  0.339623  0.178082  0.0      2.0  0.770992   \n",
       "\n",
       "   Exang   Oldpeak  Slope        Ca Thal  Class  \n",
       "0    0.0  0.370968    3.0  0.000000  6.0      0  \n",
       "1    1.0  0.241935    2.0  1.000000  3.0      1  \n",
       "2    1.0  0.419355    2.0  0.666667  7.0      1  \n",
       "3    0.0  0.564516    3.0  0.000000  3.0      0  \n",
       "4    0.0  0.225806    1.0  0.000000  3.0      0  "
      ]
     },
     "execution_count": 21,
     "metadata": {},
     "output_type": "execute_result"
    }
   ],
   "source": [
    "# Combine original dataframe with standardized dataset\n",
    "standardized = dfmodel.copy() # Create a copy of the origional dataset\n",
    "# Replace the numerical features in the original dataframe with the standardized features\n",
    "standardized[numerical] = df_standard[numerical] \n",
    "standardized.head() # Print the first 5 rows of the standardized data"
   ]
  },
  {
   "cell_type": "markdown",
   "metadata": {
    "id": "fdx8Q4974E5C"
   },
   "source": [
    "## 5. Selecting the features"
   ]
  },
  {
   "cell_type": "code",
   "execution_count": 22,
   "metadata": {
    "id": "YUeSO3mm0aM3"
   },
   "outputs": [],
   "source": [
    "# Create  test set: one with all features \n",
    "# First we create a dataframe in which all features are included\n",
    "X_features = standardized.copy() # Create a copy of the standardized dataframe\n",
    "X_features.drop(columns=['Class'],inplace=True) # Drop the outcome variable\n",
    "y = standardized['Class'] # We store the classlabels in y"
   ]
  },
  {
   "cell_type": "markdown",
   "metadata": {
    "id": "niDYUd4k4J0z"
   },
   "source": [
    "## 6. Splitting in training and test sets"
   ]
  },
  {
   "cell_type": "code",
   "execution_count": 23,
   "metadata": {
    "id": "DJ9NJkYS1_sP"
   },
   "outputs": [],
   "source": [
    "# Split the dataset that includes all features into a training and test set\n",
    "X_train, X_test, y_train, y_test = train_test_split(X_features, y, test_size=0.2, random_state=RANDOM_SEED)\n"
   ]
  },
  {
   "cell_type": "code",
   "execution_count": 24,
   "metadata": {
    "id": "SFxQNtJ3OxmA"
   },
   "outputs": [],
   "source": [
    "# Defining a method to print the size of the test/training set\n",
    "def size(X_train, X_test, y_train, y_test):\n",
    "  print(\"The size of the training set is: \",X_train.shape)\n",
    "  print(\"The size of the test set is: \",X_test.shape)\n",
    "  print(\"The size of the training target set is: \",y_train.shape)\n",
    "  print(\"The size of the test target set is: \",y_test.shape)"
   ]
  },
  {
   "cell_type": "code",
   "execution_count": 25,
   "metadata": {
    "colab": {
     "base_uri": "https://localhost:8080/"
    },
    "id": "bt8gJkEB0Hwo",
    "outputId": "26e0d50d-1940-44c3-f107-f606867361ae"
   },
   "outputs": [
    {
     "name": "stdout",
     "output_type": "stream",
     "text": [
      "The size of the training set is:  (237, 13)\n",
      "The size of the test set is:  (60, 13)\n",
      "The size of the training target set is:  (237,)\n",
      "The size of the test target set is:  (60,)\n"
     ]
    }
   ],
   "source": [
    "# Checking if the train/split sets match with target of the dataset with all features\n",
    "size(X_train, X_test, y_train, y_test)"
   ]
  },
  {
   "cell_type": "markdown",
   "metadata": {
    "id": "TtwAl-4UUn2p"
   },
   "source": [
    "## 7. Choosing models Random Forest, SVM, KNN, Descision Tree\n"
   ]
  },
  {
   "cell_type": "code",
   "execution_count": 26,
   "metadata": {
    "id": "FS2qBH0hwPQq"
   },
   "outputs": [],
   "source": [
    "# Define classifiers to train and test \n",
    "MODELS_TO_TEST = {\n",
    "    \"RF_15\": RandomForestClassifier(n_estimators=15, max_depth=5),\n",
    "    \"SVM\": SVC(kernel='linear'),\n",
    "    \"KNN\": KNeighborsClassifier(n_neighbors=7),\n",
    "    \"DT\": DecisionTreeClassifier(max_depth=5),\n",
    "}\n",
    "\n",
    "# Define the number of splits \n",
    "NUMBER_OF_SPLITS = 5\n",
    "\n",
    "# Define the scoring metrics\n",
    "SCORING_METRICS = [\"accuracy\", \"precision_macro\", \"recall_macro\", \"f1_macro\", \"roc_auc\"] # Metrics of interest\n",
    "\n",
    "# Create empty DataFrame to populate the name of the classifier and the six values returned from `cross_validate()`\n",
    "results_evaluation = pd.DataFrame({\n",
    "                                    \"classifier_name\":[],\n",
    "                                    \"fit_time\": [],\n",
    "                                    \"score_time\": [],\n",
    "                                    \"test_accuracy\": [],\n",
    "                                    \"test_precision_macro\": [],\n",
    "                                    \"test_recall_macro\": [],\n",
    "                                    \"test_f1_macro\": [],\n",
    "                                    \"test_roc_auc\": [],\n",
    "                                    })\n",
    "results_evaluation_selected_features = pd.DataFrame({\n",
    "                                    \"classifier_name\":[],\n",
    "                                    \"fit_time\": [],\n",
    "                                    \"score_time\": [],\n",
    "                                    \"test_accuracy\": [],\n",
    "                                    \"test_precision_macro\": [],\n",
    "                                    \"test_recall_macro\": [],\n",
    "                                    \"test_f1_macro\": [],\n",
    "                                    \"test_roc_auc\": [],\n",
    "                                    })"
   ]
  },
  {
   "cell_type": "markdown",
   "metadata": {
    "id": "QosbVTzWQsrL"
   },
   "source": [
    "## 8. Train, test and evaluation metrics"
   ]
  },
  {
   "cell_type": "code",
   "execution_count": 27,
   "metadata": {
    "colab": {
     "base_uri": "https://localhost:8080/"
    },
    "id": "dGfarTY15n09",
    "outputId": "e46ad281-d747-4f52-e5aa-d467ea8757ce"
   },
   "outputs": [
    {
     "name": "stdout",
     "output_type": "stream",
     "text": [
      "Currently training the classifier RF_15.\n",
      "Currently training the classifier SVM.\n",
      "Currently training the classifier KNN.\n",
      "Currently training the classifier DT.\n",
      "The experimental setup has finished\n"
     ]
    }
   ],
   "source": [
    "#### ITERATION FOR THE EXPERIMENT for Dataset with ALL features\n",
    "\n",
    "for name, classifier in MODELS_TO_TEST.items():\n",
    "    \n",
    "    print(f\"Currently training the classifier {name}.\")\n",
    "\n",
    "    # Get the evaluation metrics per fold after cross-validation\n",
    "    # Note that we are passing the normalized array `data_X_norm` to all classifiers\n",
    "    scores_cv = cross_validate(classifier, X_features, y, cv=NUMBER_OF_SPLITS, scoring=SCORING_METRICS)\n",
    "\n",
    "    # Average the scores among folds\n",
    "    dict_this_result = {\n",
    "                    \"classifier_name\":[name],\n",
    "                    }\n",
    "    # Populate the dictionary with the results of the cross-validation\n",
    "    for metric_name, score_per_fold in scores_cv.items():\n",
    "        dict_this_result[metric_name] = [ scores_cv[metric_name].mean() ]\n",
    "\n",
    "    # Generate the results to populate the pandas.DataFrame\n",
    "    this_result = pd.DataFrame(dict_this_result)\n",
    "\n",
    "    # Append to the main dataframe with the results \n",
    "    results_evaluation = pd.concat([results_evaluation, this_result], ignore_index=True)\n",
    "\n",
    "print(\"The experimental setup has finished\")"
   ]
  },
  {
   "cell_type": "code",
   "execution_count": 28,
   "metadata": {
    "colab": {
     "base_uri": "https://localhost:8080/",
     "height": 175
    },
    "id": "1_zc4_SCE_XY",
    "outputId": "3d6c00f2-d524-43c1-ca76-0d1bd7b69098"
   },
   "outputs": [
    {
     "data": {
      "text/html": [
       "<div>\n",
       "<style scoped>\n",
       "    .dataframe tbody tr th:only-of-type {\n",
       "        vertical-align: middle;\n",
       "    }\n",
       "\n",
       "    .dataframe tbody tr th {\n",
       "        vertical-align: top;\n",
       "    }\n",
       "\n",
       "    .dataframe thead th {\n",
       "        text-align: right;\n",
       "    }\n",
       "</style>\n",
       "<table border=\"1\" class=\"dataframe\">\n",
       "  <thead>\n",
       "    <tr style=\"text-align: right;\">\n",
       "      <th></th>\n",
       "      <th>classifier_name</th>\n",
       "      <th>fit_time</th>\n",
       "      <th>score_time</th>\n",
       "      <th>test_accuracy</th>\n",
       "      <th>test_precision_macro</th>\n",
       "      <th>test_recall_macro</th>\n",
       "      <th>test_f1_macro</th>\n",
       "      <th>test_roc_auc</th>\n",
       "    </tr>\n",
       "  </thead>\n",
       "  <tbody>\n",
       "    <tr>\n",
       "      <th>0</th>\n",
       "      <td>RF_15</td>\n",
       "      <td>0.036618</td>\n",
       "      <td>0.024258</td>\n",
       "      <td>0.814576</td>\n",
       "      <td>0.819936</td>\n",
       "      <td>0.809904</td>\n",
       "      <td>0.811140</td>\n",
       "      <td>0.893543</td>\n",
       "    </tr>\n",
       "    <tr>\n",
       "      <th>1</th>\n",
       "      <td>SVM</td>\n",
       "      <td>0.006600</td>\n",
       "      <td>0.018709</td>\n",
       "      <td>0.831412</td>\n",
       "      <td>0.835225</td>\n",
       "      <td>0.828158</td>\n",
       "      <td>0.829025</td>\n",
       "      <td>0.904101</td>\n",
       "    </tr>\n",
       "    <tr>\n",
       "      <th>2</th>\n",
       "      <td>KNN</td>\n",
       "      <td>0.002783</td>\n",
       "      <td>0.015315</td>\n",
       "      <td>0.811186</td>\n",
       "      <td>0.817881</td>\n",
       "      <td>0.808697</td>\n",
       "      <td>0.807979</td>\n",
       "      <td>0.868035</td>\n",
       "    </tr>\n",
       "    <tr>\n",
       "      <th>3</th>\n",
       "      <td>DT</td>\n",
       "      <td>0.002791</td>\n",
       "      <td>0.011702</td>\n",
       "      <td>0.740339</td>\n",
       "      <td>0.743360</td>\n",
       "      <td>0.734342</td>\n",
       "      <td>0.734502</td>\n",
       "      <td>0.746912</td>\n",
       "    </tr>\n",
       "  </tbody>\n",
       "</table>\n",
       "</div>"
      ],
      "text/plain": [
       "  classifier_name  fit_time  score_time  test_accuracy  test_precision_macro  \\\n",
       "0           RF_15  0.036618    0.024258       0.814576              0.819936   \n",
       "1             SVM  0.006600    0.018709       0.831412              0.835225   \n",
       "2             KNN  0.002783    0.015315       0.811186              0.817881   \n",
       "3              DT  0.002791    0.011702       0.740339              0.743360   \n",
       "\n",
       "   test_recall_macro  test_f1_macro  test_roc_auc  \n",
       "0           0.809904       0.811140      0.893543  \n",
       "1           0.828158       0.829025      0.904101  \n",
       "2           0.808697       0.807979      0.868035  \n",
       "3           0.734342       0.734502      0.746912  "
      ]
     },
     "execution_count": 28,
     "metadata": {},
     "output_type": "execute_result"
    }
   ],
   "source": [
    "# Printing the evaluation metrics of all features\n",
    "results_evaluation"
   ]
  },
  {
   "cell_type": "code",
   "execution_count": 29,
   "metadata": {
    "id": "RqivXnGTFV6n"
   },
   "outputs": [],
   "source": [
    "# Store the average accuracy from the all features dataset and group by the name of the classifier\n",
    "average_score_classifier = results_evaluation.groupby(by=[\"classifier_name\"]).mean()"
   ]
  },
  {
   "cell_type": "code",
   "execution_count": 30,
   "metadata": {
    "colab": {
     "base_uri": "https://localhost:8080/",
     "height": 420
    },
    "id": "vCGPN8mXFZOM",
    "outputId": "a3ff0655-27f9-4808-965d-52aca78cf923"
   },
   "outputs": [
    {
     "data": {
      "image/png": "[encoded data removed]",
      "text/plain": [
       "<Figure size 640x480 with 1 Axes>"
      ]
     },
     "metadata": {},
     "output_type": "display_data"
    },
    {
     "data": {
      "text/plain": [
       "classifier_name\n",
       "DT       0.740339\n",
       "KNN      0.811186\n",
       "RF_15    0.814576\n",
       "SVM      0.831412\n",
       "Name: test_accuracy, dtype: float64"
      ]
     },
     "execution_count": 30,
     "metadata": {},
     "output_type": "execute_result"
    }
   ],
   "source": [
    "average_score_classifier[\"test_accuracy\"].plot.bar() # Plot the the average accuracy from the all features dataset\n",
    "plt.title(\"Average accuracy per classifier among dataset\") # Set a title for the plot\n",
    "plt.xlabel(\"Classifiers\") # Set a label for the X-axis\n",
    "plt.show() # Show the plot\n",
    "average_score_classifier[\"test_accuracy\"]"
   ]
  },
  {
   "cell_type": "code",
   "execution_count": 31,
   "metadata": {
    "colab": {
     "base_uri": "https://localhost:8080/",
     "height": 420
    },
    "id": "u0c_bvhH_VvI",
    "outputId": "f246b81e-ceb9-49da-b192-8660c866b2ab"
   },
   "outputs": [
    {
     "data": {
      "image/png": "[encoded data removed]",
      "text/plain": [
       "<Figure size 640x480 with 1 Axes>"
      ]
     },
     "metadata": {},
     "output_type": "display_data"
    },
    {
     "data": {
      "text/plain": [
       "classifier_name\n",
       "DT       0.746912\n",
       "KNN      0.868035\n",
       "RF_15    0.893543\n",
       "SVM      0.904101\n",
       "Name: test_roc_auc, dtype: float64"
      ]
     },
     "execution_count": 31,
     "metadata": {},
     "output_type": "execute_result"
    }
   ],
   "source": [
    "average_score_classifier[\"test_roc_auc\"].plot.bar() # Plot the the average accuracy from the all features dataset\n",
    "plt.title(\"Average roc-auc per classifier among dataset\") # Set a title for the plot\n",
    "plt.xlabel(\"Classifiers\") # Set a label for the X-axis\n",
    "plt.show() # Show the plot\n",
    "average_score_classifier[\"test_roc_auc\"]"
   ]
  },
  {
   "cell_type": "markdown",
   "metadata": {
    "id": "LPpgWTy6EISa"
   },
   "source": [
    "## 9. Tune the models for better performance by optimizing the parameters\n",
    "\n",
    "\n"
   ]
  },
  {
   "cell_type": "code",
   "execution_count": 32,
   "metadata": {
    "id": "nvj_ufcN6Rzp"
   },
   "outputs": [],
   "source": [
    "# Create a standard SVC classifier clf without any parameter\n",
    "clf = SVC()\n",
    "# Grid search with a list of two parameter dictionaries, one with kernel = ['poly'] and degree = [2, 3, 4]\n",
    "# and the other one with kernel = ['linear', 'rbf'] and C = [1, 10, 100, 1000]\n",
    "param_grid = [\n",
    "    {'kernel': ['poly'], 'degree': [2, 3, 4]},\n",
    "    {'kernel': ['linear', 'rbf'], 'C': [1, 10, 100, 1000]},\n",
    "    ]\n",
    "# Run GridSearch and save the scores\n",
    "gs = GridSearchCV(clf, param_grid, cv=5)"
   ]
  },
  {
   "cell_type": "code",
   "execution_count": 33,
   "metadata": {
    "colab": {
     "base_uri": "https://localhost:8080/"
    },
    "id": "7r5HAfWDoh7K",
    "outputId": "2b31b04e-3992-44d8-ba2c-1e2479fb34c0"
   },
   "outputs": [
    {
     "data": {
      "text/html": [
       "<style>#sk-container-id-1 {\n",
       "  /* Definition of color scheme common for light and dark mode */\n",
       "  --sklearn-color-text: black;\n",
       "  --sklearn-color-line: gray;\n",
       "  /* Definition of color scheme for unfitted estimators */\n",
       "  --sklearn-color-unfitted-level-0: #fff5e6;\n",
       "  --sklearn-color-unfitted-level-1: #f6e4d2;\n",
       "  --sklearn-color-unfitted-level-2: #ffe0b3;\n",
       "  --sklearn-color-unfitted-level-3: chocolate;\n",
       "  /* Definition of color scheme for fitted estimators */\n",
       "  --sklearn-color-fitted-level-0: #f0f8ff;\n",
       "  --sklearn-color-fitted-level-1: #d4ebff;\n",
       "  --sklearn-color-fitted-level-2: #b3dbfd;\n",
       "  --sklearn-color-fitted-level-3: cornflowerblue;\n",
       "\n",
       "  /* Specific color for light theme */\n",
       "  --sklearn-color-text-on-default-background: var(--sg-text-color, var(--theme-code-foreground, var(--jp-content-font-color1, black)));\n",
       "  --sklearn-color-background: var(--sg-background-color, var(--theme-background, var(--jp-layout-color0, white)));\n",
       "  --sklearn-color-border-box: var(--sg-text-color, var(--theme-code-foreground, var(--jp-content-font-color1, black)));\n",
       "  --sklearn-color-icon: #696969;\n",
       "\n",
       "  @media (prefers-color-scheme: dark) {\n",
       "    /* Redefinition of color scheme for dark theme */\n",
       "    --sklearn-color-text-on-default-background: var(--sg-text-color, var(--theme-code-foreground, var(--jp-content-font-color1, white)));\n",
       "    --sklearn-color-background: var(--sg-background-color, var(--theme-background, var(--jp-layout-color0, #111)));\n",
       "    --sklearn-color-border-box: var(--sg-text-color, var(--theme-code-foreground, var(--jp-content-font-color1, white)));\n",
       "    --sklearn-color-icon: #878787;\n",
       "  }\n",
       "}\n",
       "\n",
       "#sk-container-id-1 {\n",
       "  color: var(--sklearn-color-text);\n",
       "}\n",
       "\n",
       "#sk-container-id-1 pre {\n",
       "  padding: 0;\n",
       "}\n",
       "\n",
       "#sk-container-id-1 input.sk-hidden--visually {\n",
       "  border: 0;\n",
       "  clip: rect(1px 1px 1px 1px);\n",
       "  clip: rect(1px, 1px, 1px, 1px);\n",
       "  height: 1px;\n",
       "  margin: -1px;\n",
       "  overflow: hidden;\n",
       "  padding: 0;\n",
       "  position: absolute;\n",
       "  width: 1px;\n",
       "}\n",
       "\n",
       "#sk-container-id-1 div.sk-dashed-wrapped {\n",
       "  border: 1px dashed var(--sklearn-color-line);\n",
       "  margin: 0 0.4em 0.5em 0.4em;\n",
       "  box-sizing: border-box;\n",
       "  padding-bottom: 0.4em;\n",
       "  background-color: var(--sklearn-color-background);\n",
       "}\n",
       "\n",
       "#sk-container-id-1 div.sk-container {\n",
       "  /* jupyter's `normalize.less` sets `[hidden] { display: none; }`\n",
       "     but bootstrap.min.css set `[hidden] { display: none !important; }`\n",
       "     so we also need the `!important` here to be able to override the\n",
       "     default hidden behavior on the sphinx rendered scikit-learn.org.\n",
       "     See: https://github.com/scikit-learn/scikit-learn/issues/21755 */\n",
       "  display: inline-block !important;\n",
       "  position: relative;\n",
       "}\n",
       "\n",
       "#sk-container-id-1 div.sk-text-repr-fallback {\n",
       "  display: none;\n",
       "}\n",
       "\n",
       "div.sk-parallel-item,\n",
       "div.sk-serial,\n",
       "div.sk-item {\n",
       "  /* draw centered vertical line to link estimators */\n",
       "  background-image: linear-gradient(var(--sklearn-color-text-on-default-background), var(--sklearn-color-text-on-default-background));\n",
       "  background-size: 2px 100%;\n",
       "  background-repeat: no-repeat;\n",
       "  background-position: center center;\n",
       "}\n",
       "\n",
       "/* Parallel-specific style estimator block */\n",
       "\n",
       "#sk-container-id-1 div.sk-parallel-item::after {\n",
       "  content: \"\";\n",
       "  width: 100%;\n",
       "  border-bottom: 2px solid var(--sklearn-color-text-on-default-background);\n",
       "  flex-grow: 1;\n",
       "}\n",
       "\n",
       "#sk-container-id-1 div.sk-parallel {\n",
       "  display: flex;\n",
       "  align-items: stretch;\n",
       "  justify-content: center;\n",
       "  background-color: var(--sklearn-color-background);\n",
       "  position: relative;\n",
       "}\n",
       "\n",
       "#sk-container-id-1 div.sk-parallel-item {\n",
       "  display: flex;\n",
       "  flex-direction: column;\n",
       "}\n",
       "\n",
       "#sk-container-id-1 div.sk-parallel-item:first-child::after {\n",
       "  align-self: flex-end;\n",
       "  width: 50%;\n",
       "}\n",
       "\n",
       "#sk-container-id-1 div.sk-parallel-item:last-child::after {\n",
       "  align-self: flex-start;\n",
       "  width: 50%;\n",
       "}\n",
       "\n",
       "#sk-container-id-1 div.sk-parallel-item:only-child::after {\n",
       "  width: 0;\n",
       "}\n",
       "\n",
       "/* Serial-specific style estimator block */\n",
       "\n",
       "#sk-container-id-1 div.sk-serial {\n",
       "  display: flex;\n",
       "  flex-direction: column;\n",
       "  align-items: center;\n",
       "  background-color: var(--sklearn-color-background);\n",
       "  padding-right: 1em;\n",
       "  padding-left: 1em;\n",
       "}\n",
       "\n",
       "\n",
       "/* Toggleable style: style used for estimator/Pipeline/ColumnTransformer box that is\n",
       "clickable and can be expanded/collapsed.\n",
       "- Pipeline and ColumnTransformer use this feature and define the default style\n",
       "- Estimators will overwrite some part of the style using the `sk-estimator` class\n",
       "*/\n",
       "\n",
       "/* Pipeline and ColumnTransformer style (default) */\n",
       "\n",
       "#sk-container-id-1 div.sk-toggleable {\n",
       "  /* Default theme specific background. It is overwritten whether we have a\n",
       "  specific estimator or a Pipeline/ColumnTransformer */\n",
       "  background-color: var(--sklearn-color-background);\n",
       "}\n",
       "\n",
       "/* Toggleable label */\n",
       "#sk-container-id-1 label.sk-toggleable__label {\n",
       "  cursor: pointer;\n",
       "  display: block;\n",
       "  width: 100%;\n",
       "  margin-bottom: 0;\n",
       "  padding: 0.5em;\n",
       "  box-sizing: border-box;\n",
       "  text-align: center;\n",
       "}\n",
       "\n",
       "#sk-container-id-1 label.sk-toggleable__label-arrow:before {\n",
       "  /* Arrow on the left of the label */\n",
       "  content: \"▸\";\n",
       "  float: left;\n",
       "  margin-right: 0.25em;\n",
       "  color: var(--sklearn-color-icon);\n",
       "}\n",
       "\n",
       "#sk-container-id-1 label.sk-toggleable__label-arrow:hover:before {\n",
       "  color: var(--sklearn-color-text);\n",
       "}\n",
       "\n",
       "/* Toggleable content - dropdown */\n",
       "\n",
       "#sk-container-id-1 div.sk-toggleable__content {\n",
       "  max-height: 0;\n",
       "  max-width: 0;\n",
       "  overflow: hidden;\n",
       "  text-align: left;\n",
       "  /* unfitted */\n",
       "  background-color: var(--sklearn-color-unfitted-level-0);\n",
       "}\n",
       "\n",
       "#sk-container-id-1 div.sk-toggleable__content.fitted {\n",
       "  /* fitted */\n",
       "  background-color: var(--sklearn-color-fitted-level-0);\n",
       "}\n",
       "\n",
       "#sk-container-id-1 div.sk-toggleable__content pre {\n",
       "  margin: 0.2em;\n",
       "  border-radius: 0.25em;\n",
       "  color: var(--sklearn-color-text);\n",
       "  /* unfitted */\n",
       "  background-color: var(--sklearn-color-unfitted-level-0);\n",
       "}\n",
       "\n",
       "#sk-container-id-1 div.sk-toggleable__content.fitted pre {\n",
       "  /* unfitted */\n",
       "  background-color: var(--sklearn-color-fitted-level-0);\n",
       "}\n",
       "\n",
       "#sk-container-id-1 input.sk-toggleable__control:checked~div.sk-toggleable__content {\n",
       "  /* Expand drop-down */\n",
       "  max-height: 200px;\n",
       "  max-width: 100%;\n",
       "  overflow: auto;\n",
       "}\n",
       "\n",
       "#sk-container-id-1 input.sk-toggleable__control:checked~label.sk-toggleable__label-arrow:before {\n",
       "  content: \"▾\";\n",
       "}\n",
       "\n",
       "/* Pipeline/ColumnTransformer-specific style */\n",
       "\n",
       "#sk-container-id-1 div.sk-label input.sk-toggleable__control:checked~label.sk-toggleable__label {\n",
       "  color: var(--sklearn-color-text);\n",
       "  background-color: var(--sklearn-color-unfitted-level-2);\n",
       "}\n",
       "\n",
       "#sk-container-id-1 div.sk-label.fitted input.sk-toggleable__control:checked~label.sk-toggleable__label {\n",
       "  background-color: var(--sklearn-color-fitted-level-2);\n",
       "}\n",
       "\n",
       "/* Estimator-specific style */\n",
       "\n",
       "/* Colorize estimator box */\n",
       "#sk-container-id-1 div.sk-estimator input.sk-toggleable__control:checked~label.sk-toggleable__label {\n",
       "  /* unfitted */\n",
       "  background-color: var(--sklearn-color-unfitted-level-2);\n",
       "}\n",
       "\n",
       "#sk-container-id-1 div.sk-estimator.fitted input.sk-toggleable__control:checked~label.sk-toggleable__label {\n",
       "  /* fitted */\n",
       "  background-color: var(--sklearn-color-fitted-level-2);\n",
       "}\n",
       "\n",
       "#sk-container-id-1 div.sk-label label.sk-toggleable__label,\n",
       "#sk-container-id-1 div.sk-label label {\n",
       "  /* The background is the default theme color */\n",
       "  color: var(--sklearn-color-text-on-default-background);\n",
       "}\n",
       "\n",
       "/* On hover, darken the color of the background */\n",
       "#sk-container-id-1 div.sk-label:hover label.sk-toggleable__label {\n",
       "  color: var(--sklearn-color-text);\n",
       "  background-color: var(--sklearn-color-unfitted-level-2);\n",
       "}\n",
       "\n",
       "/* Label box, darken color on hover, fitted */\n",
       "#sk-container-id-1 div.sk-label.fitted:hover label.sk-toggleable__label.fitted {\n",
       "  color: var(--sklearn-color-text);\n",
       "  background-color: var(--sklearn-color-fitted-level-2);\n",
       "}\n",
       "\n",
       "/* Estimator label */\n",
       "\n",
       "#sk-container-id-1 div.sk-label label {\n",
       "  font-family: monospace;\n",
       "  font-weight: bold;\n",
       "  display: inline-block;\n",
       "  line-height: 1.2em;\n",
       "}\n",
       "\n",
       "#sk-container-id-1 div.sk-label-container {\n",
       "  text-align: center;\n",
       "}\n",
       "\n",
       "/* Estimator-specific */\n",
       "#sk-container-id-1 div.sk-estimator {\n",
       "  font-family: monospace;\n",
       "  border: 1px dotted var(--sklearn-color-border-box);\n",
       "  border-radius: 0.25em;\n",
       "  box-sizing: border-box;\n",
       "  margin-bottom: 0.5em;\n",
       "  /* unfitted */\n",
       "  background-color: var(--sklearn-color-unfitted-level-0);\n",
       "}\n",
       "\n",
       "#sk-container-id-1 div.sk-estimator.fitted {\n",
       "  /* fitted */\n",
       "  background-color: var(--sklearn-color-fitted-level-0);\n",
       "}\n",
       "\n",
       "/* on hover */\n",
       "#sk-container-id-1 div.sk-estimator:hover {\n",
       "  /* unfitted */\n",
       "  background-color: var(--sklearn-color-unfitted-level-2);\n",
       "}\n",
       "\n",
       "#sk-container-id-1 div.sk-estimator.fitted:hover {\n",
       "  /* fitted */\n",
       "  background-color: var(--sklearn-color-fitted-level-2);\n",
       "}\n",
       "\n",
       "/* Specification for estimator info (e.g. \"i\" and \"?\") */\n",
       "\n",
       "/* Common style for \"i\" and \"?\" */\n",
       "\n",
       ".sk-estimator-doc-link,\n",
       "a:link.sk-estimator-doc-link,\n",
       "a:visited.sk-estimator-doc-link {\n",
       "  float: right;\n",
       "  font-size: smaller;\n",
       "  line-height: 1em;\n",
       "  font-family: monospace;\n",
       "  background-color: var(--sklearn-color-background);\n",
       "  border-radius: 1em;\n",
       "  height: 1em;\n",
       "  width: 1em;\n",
       "  text-decoration: none !important;\n",
       "  margin-left: 1ex;\n",
       "  /* unfitted */\n",
       "  border: var(--sklearn-color-unfitted-level-1) 1pt solid;\n",
       "  color: var(--sklearn-color-unfitted-level-1);\n",
       "}\n",
       "\n",
       ".sk-estimator-doc-link.fitted,\n",
       "a:link.sk-estimator-doc-link.fitted,\n",
       "a:visited.sk-estimator-doc-link.fitted {\n",
       "  /* fitted */\n",
       "  border: var(--sklearn-color-fitted-level-1) 1pt solid;\n",
       "  color: var(--sklearn-color-fitted-level-1);\n",
       "}\n",
       "\n",
       "/* On hover */\n",
       "div.sk-estimator:hover .sk-estimator-doc-link:hover,\n",
       ".sk-estimator-doc-link:hover,\n",
       "div.sk-label-container:hover .sk-estimator-doc-link:hover,\n",
       ".sk-estimator-doc-link:hover {\n",
       "  /* unfitted */\n",
       "  background-color: var(--sklearn-color-unfitted-level-3);\n",
       "  color: var(--sklearn-color-background);\n",
       "  text-decoration: none;\n",
       "}\n",
       "\n",
       "div.sk-estimator.fitted:hover .sk-estimator-doc-link.fitted:hover,\n",
       ".sk-estimator-doc-link.fitted:hover,\n",
       "div.sk-label-container:hover .sk-estimator-doc-link.fitted:hover,\n",
       ".sk-estimator-doc-link.fitted:hover {\n",
       "  /* fitted */\n",
       "  background-color: var(--sklearn-color-fitted-level-3);\n",
       "  color: var(--sklearn-color-background);\n",
       "  text-decoration: none;\n",
       "}\n",
       "\n",
       "/* Span, style for the box shown on hovering the info icon */\n",
       ".sk-estimator-doc-link span {\n",
       "  display: none;\n",
       "  z-index: 9999;\n",
       "  position: relative;\n",
       "  font-weight: normal;\n",
       "  right: .2ex;\n",
       "  padding: .5ex;\n",
       "  margin: .5ex;\n",
       "  width: min-content;\n",
       "  min-width: 20ex;\n",
       "  max-width: 50ex;\n",
       "  color: var(--sklearn-color-text);\n",
       "  box-shadow: 2pt 2pt 4pt #999;\n",
       "  /* unfitted */\n",
       "  background: var(--sklearn-color-unfitted-level-0);\n",
       "  border: .5pt solid var(--sklearn-color-unfitted-level-3);\n",
       "}\n",
       "\n",
       ".sk-estimator-doc-link.fitted span {\n",
       "  /* fitted */\n",
       "  background: var(--sklearn-color-fitted-level-0);\n",
       "  border: var(--sklearn-color-fitted-level-3);\n",
       "}\n",
       "\n",
       ".sk-estimator-doc-link:hover span {\n",
       "  display: block;\n",
       "}\n",
       "\n",
       "/* \"?\"-specific style due to the `<a>` HTML tag */\n",
       "\n",
       "#sk-container-id-1 a.estimator_doc_link {\n",
       "  float: right;\n",
       "  font-size: 1rem;\n",
       "  line-height: 1em;\n",
       "  font-family: monospace;\n",
       "  background-color: var(--sklearn-color-background);\n",
       "  border-radius: 1rem;\n",
       "  height: 1rem;\n",
       "  width: 1rem;\n",
       "  text-decoration: none;\n",
       "  /* unfitted */\n",
       "  color: var(--sklearn-color-unfitted-level-1);\n",
       "  border: var(--sklearn-color-unfitted-level-1) 1pt solid;\n",
       "}\n",
       "\n",
       "#sk-container-id-1 a.estimator_doc_link.fitted {\n",
       "  /* fitted */\n",
       "  border: var(--sklearn-color-fitted-level-1) 1pt solid;\n",
       "  color: var(--sklearn-color-fitted-level-1);\n",
       "}\n",
       "\n",
       "/* On hover */\n",
       "#sk-container-id-1 a.estimator_doc_link:hover {\n",
       "  /* unfitted */\n",
       "  background-color: var(--sklearn-color-unfitted-level-3);\n",
       "  color: var(--sklearn-color-background);\n",
       "  text-decoration: none;\n",
       "}\n",
       "\n",
       "#sk-container-id-1 a.estimator_doc_link.fitted:hover {\n",
       "  /* fitted */\n",
       "  background-color: var(--sklearn-color-fitted-level-3);\n",
       "}\n",
       "</style><div id=\"sk-container-id-1\" class=\"sk-top-container\"><div class=\"sk-text-repr-fallback\"><pre>SVC(kernel=&#x27;poly&#x27;)</pre><b>In a Jupyter environment, please rerun this cell to show the HTML representation or trust the notebook. <br />On GitHub, the HTML representation is unable to render, please try loading this page with nbviewer.org.</b></div><div class=\"sk-container\" hidden><div class=\"sk-item\"><div class=\"sk-estimator fitted sk-toggleable\"><input class=\"sk-toggleable__control sk-hidden--visually\" id=\"sk-estimator-id-1\" type=\"checkbox\" checked><label for=\"sk-estimator-id-1\" class=\"sk-toggleable__label fitted sk-toggleable__label-arrow fitted\">&nbsp;&nbsp;SVC<a class=\"sk-estimator-doc-link fitted\" rel=\"noreferrer\" target=\"_blank\" href=\"https://scikit-learn.org/1.5/modules/generated/sklearn.svm.SVC.html\">?<span>Documentation for SVC</span></a><span class=\"sk-estimator-doc-link fitted\">i<span>Fitted</span></span></label><div class=\"sk-toggleable__content fitted\"><pre>SVC(kernel=&#x27;poly&#x27;)</pre></div> </div></div></div></div>"
      ],
      "text/plain": [
       "SVC(kernel='poly')"
      ]
     },
     "execution_count": 33,
     "metadata": {},
     "output_type": "execute_result"
    }
   ],
   "source": [
    "# Fit the training data of the dataset with all features\n",
    "gs.fit(X_train, y_train)\n",
    "# The best classifier\n",
    "gs.best_estimator_"
   ]
  },
  {
   "cell_type": "code",
   "execution_count": 34,
   "metadata": {
    "colab": {
     "base_uri": "https://localhost:8080/"
    },
    "id": "Dar9ElBnbZLp",
    "outputId": "61304ec1-5bc5-41e8-c1ab-82bc23944c06"
   },
   "outputs": [
    {
     "data": {
      "text/plain": [
       "0.823049645390071"
      ]
     },
     "execution_count": 34,
     "metadata": {},
     "output_type": "execute_result"
    }
   ],
   "source": [
    "# The best score\n",
    "gs.best_score_"
   ]
  },
  {
   "cell_type": "markdown",
   "metadata": {
    "id": "jbd-zpT-Dh32"
   },
   "source": [
    "## 10. Saving the best model"
   ]
  },
  {
   "cell_type": "code",
   "execution_count": 35,
   "metadata": {
    "colab": {
     "base_uri": "https://localhost:8080/"
    },
    "id": "pWDQxfhdHlCj",
    "outputId": "12355bc8-ea01-4f6e-f8cd-2c92aefa44a5"
   },
   "outputs": [
    {
     "name": "stdout",
     "output_type": "stream",
     "text": [
      "              precision    recall  f1-score   support\n",
      "\n",
      "           0       0.85      0.82      0.84        28\n",
      "           1       0.85      0.88      0.86        32\n",
      "\n",
      "    accuracy                           0.85        60\n",
      "   macro avg       0.85      0.85      0.85        60\n",
      "weighted avg       0.85      0.85      0.85        60\n",
      "\n",
      "model  AUC score: 0.8482142857142857\n"
     ]
    }
   ],
   "source": [
    "# Predict model with gs (best model)\n",
    "y_predicted = gs.predict(X_test)\n",
    "print(classification_report(y_test, y_predicted))\n",
    "print(f'model  AUC score: {roc_auc_score(y_test, y_predicted)}')"
   ]
  },
  {
   "cell_type": "code",
   "execution_count": 36,
   "metadata": {
    "id": "LnDAtoEtENpg"
   },
   "outputs": [],
   "source": [
    "# Method for plotting AUC/ROC curve\n",
    "def plot_roc_curve(true_y, y_prob): \n",
    "    \n",
    "    fpr, tpr, thresholds = roc_curve(y_test, y_predicted)\n",
    "    plt.plot(fpr, tpr)\n",
    "    plt.xlabel('False Positive Rate')\n",
    "    plt.ylabel('True Positive Rate')"
   ]
  },
  {
   "cell_type": "code",
   "execution_count": 37,
   "metadata": {
    "colab": {
     "base_uri": "https://localhost:8080/",
     "height": 296
    },
    "id": "MXfY9bgxEVbw",
    "outputId": "14b52096-cea5-4231-ef94-873bc36ea0e9"
   },
   "outputs": [
    {
     "name": "stdout",
     "output_type": "stream",
     "text": [
      "model  AUC score: 0.8482142857142857\n"
     ]
    },
    {
     "data": {
      "image/png": "[encoded data removed]",
      "text/plain": [
       "<Figure size 640x480 with 1 Axes>"
      ]
     },
     "metadata": {},
     "output_type": "display_data"
    }
   ],
   "source": [
    "plot_roc_curve(y_test, y_predicted) # Plot AUC/ROC curve\n",
    "print(f'model  AUC score: {roc_auc_score(y_test, y_predicted)}')"
   ]
  },
  {
   "cell_type": "code",
   "execution_count": 38,
   "metadata": {
    "id": "hCFxPBFJDnEl"
   },
   "outputs": [],
   "source": [
    "# Save the trained model into trained_model_cuore.pickle using pickle, without using a folder_path\n",
    "FOLDER_PATH = \"\"\n",
    "trained_model_filename = FOLDER_PATH + \"trained_model_cuore.pickle\""
   ]
  },
  {
   "cell_type": "code",
   "execution_count": 39,
   "metadata": {
    "id": "HoFVKZ8AEK8Q"
   },
   "outputs": [],
   "source": [
    "# Create file with the specific variable in the specified folder\n",
    "data_to_save = gs.best_estimator_ \n",
    "file_path = trained_model_filename\n"
   ]
  },
  {
   "cell_type": "code",
   "execution_count": 40,
   "metadata": {
    "id": "Xl603n58ERhq"
   },
   "outputs": [],
   "source": [
    "# Creates a binary object and writes the indicated variables\n",
    "with open(file_path, \"wb\") as writeFile:\n",
    "    pickle.dump(data_to_save, writeFile)"
   ]
  },
  {
   "cell_type": "code",
   "execution_count": 41,
   "metadata": {
    "id": "6zIinXEMLg9f"
   },
   "outputs": [],
   "source": [
    "# Here we will load the same model, but in a variable that is completely empty\n",
    "loaded_model = None"
   ]
  },
  {
   "cell_type": "code",
   "execution_count": 42,
   "metadata": {
    "id": "RXip5FMxQEPl"
   },
   "outputs": [],
   "source": [
    "# Load model\n",
    "with open(trained_model_filename, \"rb\") as readFile:\n",
    "    loaded_model = pickle.load(readFile)"
   ]
  },
  {
   "cell_type": "code",
   "execution_count": 43,
   "metadata": {
    "colab": {
     "base_uri": "https://localhost:8080/"
    },
    "id": "MsiqgTaTQQZ1",
    "outputId": "84730ffd-e353-4652-f947-f61ba379a7a9"
   },
   "outputs": [
    {
     "name": "stdout",
     "output_type": "stream",
     "text": [
      "              precision    recall  f1-score   support\n",
      "\n",
      "           0       0.85      0.82      0.84        28\n",
      "           1       0.85      0.88      0.86        32\n",
      "\n",
      "    accuracy                           0.85        60\n",
      "   macro avg       0.85      0.85      0.85        60\n",
      "weighted avg       0.85      0.85      0.85        60\n",
      "\n",
      "model  AUC score: 0.8482142857142857\n"
     ]
    }
   ],
   "source": [
    "Y_predicted_loaded_model = loaded_model.predict(X_test) # Confirm that the loaded model has the same metrics as the one trained\n",
    "print(classification_report(y_test, Y_predicted_loaded_model))\n",
    "print(f'model  AUC score: {roc_auc_score(y_test, Y_predicted_loaded_model)}')"
   ]
  }
 ],
 "metadata": {
  "colab": {
   "collapsed_sections": [],
   "provenance": []
  },
  "kernelspec": {
   "display_name": "Python 3 (ipykernel)",
   "language": "python",
   "name": "python3"
  },
  "language_info": {
   "codemirror_mode": {
    "name": "ipython",
    "version": 3
   },
   "file_extension": ".py",
   "mimetype": "text/x-python",
   "name": "python",
   "nbconvert_exporter": "python",
   "pygments_lexer": "ipython3",
   "version": "3.9.19"
  },
  "vscode": {
   "interpreter": {
    "hash": "fbbba652b4feaf285c555c8e0526df41e56971e88a0edaccf2a040884b4841ba"
   }
  }
 },
 "nbformat": 4,
 "nbformat_minor": 1
}
